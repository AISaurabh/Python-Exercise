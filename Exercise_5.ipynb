{
  "nbformat": 4,
  "nbformat_minor": 0,
  "metadata": {
    "colab": {
      "provenance": []
    },
    "kernelspec": {
      "name": "python3",
      "display_name": "Python 3"
    },
    "language_info": {
      "name": "python"
    }
  },
  "cells": [
    {
      "cell_type": "markdown",
      "source": [
        "\n",
        "\n",
        "Q 1: write a Program to display the Fibonacci sequence up to n-th term where n is provided by the user\n"
      ],
      "metadata": {
        "id": "pWDu1kZIJLFO"
      }
    },
    {
      "cell_type": "code",
      "execution_count": 1,
      "metadata": {
        "colab": {
          "base_uri": "https://localhost:8080/"
        },
        "id": "aUW30h3-JCby",
        "outputId": "019c7335-a455-473d-db61-ae9a251b901e"
      },
      "outputs": [
        {
          "output_type": "stream",
          "name": "stdout",
          "text": [
            "Enter the number:8\n",
            "[0, 1, 1, 2, 3, 5, 8, 13, 21, 34]\n"
          ]
        }
      ],
      "source": [
        "n=int(input(\"Enter the number:\"))\n",
        "l=[0,1]\n",
        "for i in range(0,n):\n",
        "    l.append(l[i+1]+l[i])\n",
        "print(l)"
      ]
    },
    {
      "cell_type": "markdown",
      "source": [
        "Q2: Write a Python Program to Display Powers of 2 Using Anonymous Function  \n",
        "( Lambda function). Take number of terms from user\n"
      ],
      "metadata": {
        "id": "DPCusuTwJMyI"
      }
    },
    {
      "cell_type": "code",
      "source": [
        "a=[int(i) for i in input(\"Enter the number of terms :\").split()]\n",
        "b=list(map(lambda b:2**b,a))\n",
        "print(b)"
      ],
      "metadata": {
        "colab": {
          "base_uri": "https://localhost:8080/"
        },
        "id": "SDF-_TdxJNHA",
        "outputId": "9711dfdc-36ee-442a-c294-7a780017772d"
      },
      "execution_count": 2,
      "outputs": [
        {
          "output_type": "stream",
          "name": "stdout",
          "text": [
            "Enter the number of terms :4\n",
            "[16]\n"
          ]
        }
      ]
    },
    {
      "cell_type": "markdown",
      "source": [
        "Q3: Write a Python Program to find numbers divisible by thirteen from a list using anonymous function"
      ],
      "metadata": {
        "id": "V03eErOZJNeM"
      }
    },
    {
      "cell_type": "code",
      "source": [
        "a=[int(i) for i in input(\"Enter the numbers:\").split()]\n",
        "b=list(filter(lambda b:b%13==0,a))\n",
        "print(\"The numbers which are divisible by 13 are:\",b)"
      ],
      "metadata": {
        "colab": {
          "base_uri": "https://localhost:8080/"
        },
        "id": "wYY8N0gbJOYr",
        "outputId": "95a12163-beec-404d-e2da-4cdb86fa2508"
      },
      "execution_count": 3,
      "outputs": [
        {
          "output_type": "stream",
          "name": "stdout",
          "text": [
            "Enter the numbers:13 26 54 63 87 130 138 143\n",
            "The numbers which are divisible by 13 are: [13, 26, 130, 143]\n"
          ]
        }
      ]
    },
    {
      "cell_type": "markdown",
      "source": [
        "Q4: Write a Python program to display the Fibonacci sequence up to n-th term by using recursive functions"
      ],
      "metadata": {
        "id": "AmaJ0InjJO2d"
      }
    },
    {
      "cell_type": "code",
      "source": [
        "def rec_fibo(n):\n",
        "    if n<=1:\n",
        "        return n\n",
        "    else:\n",
        "        return (rec_fibo(n-1)+rec_fibo(n-2))\n",
        "a=int(input(\"Enter the fibinacci series:\"))\n",
        "if a<=0:\n",
        "    print(\"Enter the positive integer\")\n",
        "else:\n",
        "    print(\"Fibonacci series is:\")\n",
        "    for i in range(a):\n",
        "        print(rec_fibo(i),end=' ')\n",
        "        "
      ],
      "metadata": {
        "colab": {
          "base_uri": "https://localhost:8080/"
        },
        "id": "ObtBGRAxJPHF",
        "outputId": "d2ef9e69-434c-4591-8fd3-69c7f82c0505"
      },
      "execution_count": 4,
      "outputs": [
        {
          "output_type": "stream",
          "name": "stdout",
          "text": [
            "Enter the fibinacci series:10\n",
            "Fibonacci series is:\n",
            "0 1 1 2 3 5 8 13 21 34 "
          ]
        }
      ]
    },
    {
      "cell_type": "markdown",
      "source": [
        "Q5: Write a Python program to find the sum of natural numbers up to n using recursive function"
      ],
      "metadata": {
        "id": "j9CqkGdCJPW-"
      }
    },
    {
      "cell_type": "code",
      "source": [
        "def sum(n):\n",
        "    if n<=1:\n",
        "        return n\n",
        "    else:\n",
        "        return (n+sum(n-1))\n",
        "a=int(input(\"Enter the natural number:\"))\n",
        "if a<=0:\n",
        "    print(\"Enter the positive integer\")\n",
        "else:\n",
        "    print(\"The sum of given natural number is :\",sum(a))"
      ],
      "metadata": {
        "colab": {
          "base_uri": "https://localhost:8080/"
        },
        "id": "hMgEbmLOJPmf",
        "outputId": "b947476a-cb1e-4b60-9301-7ccdb967ead2"
      },
      "execution_count": 5,
      "outputs": [
        {
          "output_type": "stream",
          "name": "stdout",
          "text": [
            "Enter the natural number:50\n",
            "The sum of given natural number is : 1275\n"
          ]
        }
      ]
    },
    {
      "cell_type": "markdown",
      "source": [
        "Q6: Write a Python program to convert decimal number into binary number using recursive function"
      ],
      "metadata": {
        "id": "P2guSc7OJP2s"
      }
    },
    {
      "cell_type": "code",
      "source": [
        "def decitobi(n):\n",
        "    if n>1:\n",
        "        decitobi(n//2)\n",
        "    print(n%2, end=\" \")\n",
        "a=int(input(\"Enter the decimal number:\"))\n",
        "decitobi(a)\n",
        "print()"
      ],
      "metadata": {
        "colab": {
          "base_uri": "https://localhost:8080/"
        },
        "id": "kiKvJgfuJQGw",
        "outputId": "064ba79e-7bd4-41e5-f7e2-e6a0bc729434"
      },
      "execution_count": 6,
      "outputs": [
        {
          "output_type": "stream",
          "name": "stdout",
          "text": [
            "Enter the decimal number:10\n",
            "1 0 1 0 \n"
          ]
        }
      ]
    }
  ]
}