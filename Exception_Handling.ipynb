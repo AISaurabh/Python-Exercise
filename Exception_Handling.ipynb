{
  "nbformat": 4,
  "nbformat_minor": 0,
  "metadata": {
    "colab": {
      "provenance": []
    },
    "kernelspec": {
      "name": "python3",
      "display_name": "Python 3"
    },
    "language_info": {
      "name": "python"
    }
  },
  "cells": [
    {
      "cell_type": "markdown",
      "source": [
        "Q1: Write a function to compute 5/0 and use try/except to catch the exceptions. Write a Python  Program to handle multiple errors with one except statement"
      ],
      "metadata": {
        "id": "bPokQ-_bct7O"
      }
    },
    {
      "cell_type": "code",
      "execution_count": null,
      "metadata": {
        "id": "iBw5qBBkZfnj"
      },
      "outputs": [],
      "source": [
        "import sys\n",
        "a = [0,'a',2]\n",
        "\n",
        "for i in a:\n",
        "    try:\n",
        "        print(\"The entry is :\",i)\n",
        "        r = 5/(i)\n",
        "        break\n",
        "    except:\n",
        "        print(\"sorry!\", sys.exc_info()[0], \"occurred.\")\n",
        "        print()\n",
        "print(\"The reciprocal of\",i, \"is\", r)"
      ]
    },
    {
      "cell_type": "markdown",
      "source": [
        "Q2: Write a Python program to access the array element whose index is out of bound and handle the corresponding exception"
      ],
      "metadata": {
        "id": "Z_YeiuBCcvc6"
      }
    },
    {
      "cell_type": "code",
      "source": [
        "import sys\n",
        "try:\n",
        "    a=[10,20,4,5]\n",
        "    print(a[4])\n",
        "except IndexError:\n",
        "    print(\"Sorry! Index is out of range\")"
      ],
      "metadata": {
        "id": "Am_ZH4sDcvuG"
      },
      "execution_count": null,
      "outputs": []
    },
    {
      "cell_type": "markdown",
      "source": [
        "Q3: Write a Python Program to depict else clause with try-except"
      ],
      "metadata": {
        "id": "s_zehGr1cv9c"
      }
    },
    {
      "cell_type": "code",
      "source": [
        "import sys\n",
        "try:\n",
        "    num = int(input(\"Enter a number: \"))\n",
        "    assert num % 2 == 0\n",
        "except:\n",
        "    print(\"Enter an even number!\")\n",
        "else:\n",
        "    result = 1/num\n",
        "    print(result)"
      ],
      "metadata": {
        "id": "qbfwK-7lcwMQ"
      },
      "execution_count": null,
      "outputs": []
    },
    {
      "cell_type": "markdown",
      "source": [
        "Q4: Write a Python Program to depict Raising Exception"
      ],
      "metadata": {
        "id": "36wmqm93cwbj"
      }
    },
    {
      "cell_type": "code",
      "source": [
        "import sys\n",
        "try:\n",
        "    \n",
        "    a = int(input(\"Enter a non-zero integer: \"))\n",
        "    \n",
        "    if a==0:\n",
        "        raise ZeroDivisionError(\"Oops! That is not a non-zero number!\")\n",
        "    else:\n",
        "        print(2/a)\n",
        "except ZeroDivisionError as ze:\n",
        "    print(ze)"
      ],
      "metadata": {
        "id": "QaDMptrecwqg"
      },
      "execution_count": null,
      "outputs": []
    },
    {
      "cell_type": "markdown",
      "source": [
        "Q5: Write a python program to create user-defined exception"
      ],
      "metadata": {
        "id": "mmd3MCnEcw7B"
      }
    },
    {
      "cell_type": "code",
      "source": [
        "import sys\n",
        "class BaseError(Exception):\n",
        "  pass  \n",
        "class HighValueError(BaseError):\n",
        "  pass  \n",
        "class LowValueError(BaseError):\n",
        "  pass \n",
        "x = 20\n",
        "while True:\n",
        "  try:\n",
        "    a= int(input(\"Enter the number : \"))\n",
        "    if a > x:\n",
        "      raise HighValueError\n",
        "    elif a < x:\n",
        "      raise LowValueError\n",
        "    break\n",
        "  except LowValueError:\n",
        "    print(\"you give Very low number, give input again \")\n",
        "    print()\n",
        "  except HighValueError:\n",
        "    print(\"you give Too high number, give input again \")\n",
        "    print()\n",
        "print(\"That's the Correct answer.\")"
      ],
      "metadata": {
        "id": "kkNLTxalcxLj"
      },
      "execution_count": null,
      "outputs": []
    },
    {
      "cell_type": "markdown",
      "source": [
        "Q6: Print one message if the try block raises a NameError and another for other errors:"
      ],
      "metadata": {
        "id": "8koRIofjcxcG"
      }
    },
    {
      "cell_type": "code",
      "source": [
        "import sys\n",
        "try:\n",
        "    dict={1:\"car\",2:\"cycle\",3:\"bike\"}\n",
        "    print(b)\n",
        "    a=(dict[4])\n",
        "    print(a)\n",
        "except NameError:\n",
        "    print(\"Name is not defined\")\n",
        "    print()\n",
        "except KeyError:\n",
        "    print(\"Key is not found\")\n",
        "    print()"
      ],
      "metadata": {
        "id": "ZnwH2Rk8cxs7"
      },
      "execution_count": null,
      "outputs": []
    },
    {
      "cell_type": "markdown",
      "source": [
        "\n",
        "Q7: Try to open and write to a file that is not writable:"
      ],
      "metadata": {
        "id": "K_NOlrsTeO6F"
      }
    },
    {
      "cell_type": "code",
      "source": [
        "import sys\n",
        "try:\n",
        "    a=(r\"C:\\Users\\ASUS\\AppData\\Local\\Programs\\Python\\Python310\\Lab Exercise 7\\Lab7text.txt\")\n",
        "    L=[\"sunday\",\"monday\",\"tuesday\"]\n",
        "    b=open(a,mode=\"r\")\n",
        "    for i in L:\n",
        "        b.write(i+\"\\n\")\n",
        "    b.close()\n",
        "except:\n",
        "    print(\"The given file is not writable\")"
      ],
      "metadata": {
        "id": "KpHxIuxdePLV"
      },
      "execution_count": null,
      "outputs": []
    },
    {
      "cell_type": "markdown",
      "source": [
        "Q8: Write a python program to raise an error and stop the program if x is lower than 0."
      ],
      "metadata": {
        "id": "whgt5_gcePdj"
      }
    },
    {
      "cell_type": "code",
      "source": [
        "import sys\n",
        "try:\n",
        "    a=int(input(\"Enter the integer :\"))\n",
        "    if a<0:\n",
        "          raise Exception(\"Please enter a positive integer\")\n",
        "    print(a)\n",
        "except Exception as e:\n",
        "    print(e)"
      ],
      "metadata": {
        "id": "FzOSuKhQePwf"
      },
      "execution_count": null,
      "outputs": []
    },
    {
      "cell_type": "markdown",
      "source": [
        "Q9: Write a python program to raise a TypeError if x is not an integer:"
      ],
      "metadata": {
        "id": "Dy63SQE9eQHz"
      }
    },
    {
      "cell_type": "code",
      "source": [
        "import sys\n",
        "x= ['a',2]\n",
        "\n",
        "for i in x:\n",
        "    try:\n",
        "        print(\"The entry is :\",i)\n",
        "        r = 5/(i)\n",
        "        break\n",
        "    except:\n",
        "        print(\"sorry!\", sys.exc_info()[0], \"occurred.\")\n",
        "        print()\n",
        "print(\"The reciprocal of\",i, \"is\", r)"
      ],
      "metadata": {
        "id": "SMRX_HsJeQXv"
      },
      "execution_count": null,
      "outputs": []
    }
  ]
}