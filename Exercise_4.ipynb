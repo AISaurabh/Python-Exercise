{
  "nbformat": 4,
  "nbformat_minor": 0,
  "metadata": {
    "colab": {
      "provenance": []
    },
    "kernelspec": {
      "name": "python3",
      "display_name": "Python 3"
    },
    "language_info": {
      "name": "python"
    }
  },
  "cells": [
    {
      "cell_type": "markdown",
      "source": [
        "Q1: Write a python program to add all the odd numbers from 0 to 20."
      ],
      "metadata": {
        "id": "hyjeQCyS8iQM"
      }
    },
    {
      "cell_type": "code",
      "execution_count": 1,
      "metadata": {
        "colab": {
          "base_uri": "https://localhost:8080/"
        },
        "id": "pzT6BNnj8eGX",
        "outputId": "548a8169-dd08-44cf-bff6-1f707247ee2e"
      },
      "outputs": [
        {
          "output_type": "stream",
          "name": "stdout",
          "text": [
            "The sum of all odd numbers in range 0 to 20 is: 100\n"
          ]
        }
      ],
      "source": [
        "a=[i for i in range(20) if i%2!=0]\n",
        "print(\"The sum of all odd numbers in range 0 to 20 is:\",sum(a)) "
      ]
    },
    {
      "cell_type": "markdown",
      "source": [
        "Q 2: Write a python program to find the sum of all integers greater than 100 and less than 200."
      ],
      "metadata": {
        "id": "BGgfh6E48kd9"
      }
    },
    {
      "cell_type": "code",
      "source": [
        "a=[i for i in range (101,200)]\n",
        "print(\"The sum of all integers greater than 100 and less than 200 is : \",sum(a))"
      ],
      "metadata": {
        "colab": {
          "base_uri": "https://localhost:8080/"
        },
        "id": "qxvkia7Q8kvN",
        "outputId": "ce8bb77f-7760-4eec-bb32-daea51c59604"
      },
      "execution_count": 2,
      "outputs": [
        {
          "output_type": "stream",
          "name": "stdout",
          "text": [
            "The sum of all integers greater than 100 and less than 200 is :  14850\n"
          ]
        }
      ]
    },
    {
      "cell_type": "markdown",
      "source": [
        "Q3: Write a program to display the sum of square of the first ten even natural numbers\n",
        "// (2*2+ 4*4 + 6*6 + 8*8 + 10*10 + 12*12 + 14 * 14 + 16 * 16 + 18*18 + 20*20) "
      ],
      "metadata": {
        "id": "JW81qln18lAa"
      }
    },
    {
      "cell_type": "code",
      "source": [
        "a=[int(i**2) for i in range(21) if i%2==0]\n",
        "print(\"The sum of square of the first ten even natural numbers is:\",sum(a))"
      ],
      "metadata": {
        "colab": {
          "base_uri": "https://localhost:8080/"
        },
        "id": "qrG6YsbV8lQb",
        "outputId": "a6888a7a-bf24-4c4d-965e-7868acd39e16"
      },
      "execution_count": 1,
      "outputs": [
        {
          "output_type": "stream",
          "name": "stdout",
          "text": [
            "The sum of square of the first ten even natural numbers is: 1540\n"
          ]
        }
      ]
    },
    {
      "cell_type": "markdown",
      "source": [
        "Q4: Write a python program to display ascii characters from 65 to 90"
      ],
      "metadata": {
        "id": "z55cXokA8lhZ"
      }
    },
    {
      "cell_type": "code",
      "source": [
        "print(\"The ascii characters of given ranges is:\")\n",
        "for i in range (65,91):\n",
        "    print(i,\"=\",chr(i))"
      ],
      "metadata": {
        "colab": {
          "base_uri": "https://localhost:8080/"
        },
        "id": "RlRvc90i8lyT",
        "outputId": "d4bf8290-2527-4549-f7e9-6c7235a5ed04"
      },
      "execution_count": 2,
      "outputs": [
        {
          "output_type": "stream",
          "name": "stdout",
          "text": [
            "The ascii characters of given ranges is:\n",
            "65 = A\n",
            "66 = B\n",
            "67 = C\n",
            "68 = D\n",
            "69 = E\n",
            "70 = F\n",
            "71 = G\n",
            "72 = H\n",
            "73 = I\n",
            "74 = J\n",
            "75 = K\n",
            "76 = L\n",
            "77 = M\n",
            "78 = N\n",
            "79 = O\n",
            "80 = P\n",
            "81 = Q\n",
            "82 = R\n",
            "83 = S\n",
            "84 = T\n",
            "85 = U\n",
            "86 = V\n",
            "87 = W\n",
            "88 = X\n",
            "89 = Y\n",
            "90 = Z\n"
          ]
        }
      ]
    },
    {
      "cell_type": "markdown",
      "source": [
        "Q5: Display ascii characters from 48 to 57."
      ],
      "metadata": {
        "id": "e5eT0wcu8mFu"
      }
    },
    {
      "cell_type": "code",
      "source": [
        "print(\"The ascii character of given values are :\")\n",
        "for i in range (48,58):\n",
        "    print(i,\" = \", chr(i))"
      ],
      "metadata": {
        "colab": {
          "base_uri": "https://localhost:8080/"
        },
        "id": "RIVkf38q8mUv",
        "outputId": "c1df0c62-ed76-4cf3-8924-2a39bb01b92d"
      },
      "execution_count": 3,
      "outputs": [
        {
          "output_type": "stream",
          "name": "stdout",
          "text": [
            "The ascii character of given values are :\n",
            "48  =  0\n",
            "49  =  1\n",
            "50  =  2\n",
            "51  =  3\n",
            "52  =  4\n",
            "53  =  5\n",
            "54  =  6\n",
            "55  =  7\n",
            "56  =  8\n",
            "57  =  9\n"
          ]
        }
      ]
    },
    {
      "cell_type": "markdown",
      "source": [
        "Q6: Display the following output with the help of Ascii character."
      ],
      "metadata": {
        "id": "BWBodfqd8mku"
      }
    },
    {
      "cell_type": "code",
      "source": [
        "print(\"The ascii character of given values are :\")\n",
        "for i in range(97,123):\n",
        "    print(i,\" = \", chr(i))"
      ],
      "metadata": {
        "colab": {
          "base_uri": "https://localhost:8080/"
        },
        "id": "anO6gSHG8m0f",
        "outputId": "07d16a4f-b891-486b-b43a-02ed05d6f453"
      },
      "execution_count": 4,
      "outputs": [
        {
          "output_type": "stream",
          "name": "stdout",
          "text": [
            "The ascii character of given values are :\n",
            "97  =  a\n",
            "98  =  b\n",
            "99  =  c\n",
            "100  =  d\n",
            "101  =  e\n",
            "102  =  f\n",
            "103  =  g\n",
            "104  =  h\n",
            "105  =  i\n",
            "106  =  j\n",
            "107  =  k\n",
            "108  =  l\n",
            "109  =  m\n",
            "110  =  n\n",
            "111  =  o\n",
            "112  =  p\n",
            "113  =  q\n",
            "114  =  r\n",
            "115  =  s\n",
            "116  =  t\n",
            "117  =  u\n",
            "118  =  v\n",
            "119  =  w\n",
            "120  =  x\n",
            "121  =  y\n",
            "122  =  z\n"
          ]
        }
      ]
    },
    {
      "cell_type": "markdown",
      "source": [
        "\n",
        "\n",
        "Q7: Write a python program for given a Python list you should be able to display Python list in \n",
        "the following order\n",
        "L1 = [100, 200, 300, 400, 500]\n",
        "Expected output:\n",
        "[500, 400, 300, 200, 100]\n"
      ],
      "metadata": {
        "id": "OfCgMsaa8nJ5"
      }
    },
    {
      "cell_type": "code",
      "source": [
        "l1 = [100, 200, 300, 400, 500]\n",
        "print(\"The given list is:\",l1)\n",
        "l1.reverse()\n",
        "print(\"The expected output is:\",l1)"
      ],
      "metadata": {
        "colab": {
          "base_uri": "https://localhost:8080/"
        },
        "id": "4GAavtSL8nac",
        "outputId": "eb9242c7-44b1-4f1a-f9f0-98a75f48ebcb"
      },
      "execution_count": 5,
      "outputs": [
        {
          "output_type": "stream",
          "name": "stdout",
          "text": [
            "The given list is: [100, 200, 300, 400, 500]\n",
            "The expected output is: [500, 400, 300, 200, 100]\n"
          ]
        }
      ]
    },
    {
      "cell_type": "markdown",
      "source": [
        "Q8: Write a Python program to concatenate following dictionaries to create a new one.\n",
        "Sample Dictionary : \n",
        "dic1={1:10, 2:20} \n",
        "dic2={3:30, 4:40} \n",
        "dic3={5:50,6:60}\n",
        "Expected Result : {1: 10, 2: 20, 3: 30, 4: 40, 5: 50, 6: 60}"
      ],
      "metadata": {
        "id": "FNvl6sYw8nrK"
      }
    },
    {
      "cell_type": "code",
      "source": [
        "dic1={1:10, 2:20} \n",
        "dic2={3:30, 4:40} \n",
        "dic3={5:50,6:60}\n",
        "dic1.update(dic2)\n",
        "dic1.update(dic3)\n",
        "print(\"The expected output is:\",dic1)"
      ],
      "metadata": {
        "colab": {
          "base_uri": "https://localhost:8080/"
        },
        "id": "voQJKTDk8n7P",
        "outputId": "7ba97e51-fe04-4fb4-8267-e218e20eb975"
      },
      "execution_count": 6,
      "outputs": [
        {
          "output_type": "stream",
          "name": "stdout",
          "text": [
            "The expected output is: {1: 10, 2: 20, 3: 30, 4: 40, 5: 50, 6: 60}\n"
          ]
        }
      ]
    },
    {
      "cell_type": "markdown",
      "source": [
        "Q9: Write a Python program to add key to a dictionary.\n",
        "Sample Dictionary : {0: 10, 1: 20}\n",
        "Expected Result : {0: 10, 1: 20, 2: 30}"
      ],
      "metadata": {
        "id": "SkILVFN08oMa"
      }
    },
    {
      "cell_type": "code",
      "source": [
        "dic={0: 10, 1: 20}\n",
        "dic[2]=30\n",
        "print(\"The updated dictionary is:\",dic)"
      ],
      "metadata": {
        "colab": {
          "base_uri": "https://localhost:8080/"
        },
        "id": "Cqagl9PB8od5",
        "outputId": "d163ff85-1b50-45e9-cb11-851487045abe"
      },
      "execution_count": 7,
      "outputs": [
        {
          "output_type": "stream",
          "name": "stdout",
          "text": [
            "The updated dictionary is: {0: 10, 1: 20, 2: 30}\n"
          ]
        }
      ]
    },
    {
      "cell_type": "markdown",
      "source": [
        "Q10: Write a Python program to print out a set containing all the colors from a list which are not \n",
        "present in another list\n",
        "Test Data : \n",
        "color_list_1 = set([\"White\", \"Black\", \"Red\"]) \n",
        "color_list_2 = set([\"Red\", \"Green\"])"
      ],
      "metadata": {
        "id": "UOgATdzO8ovE"
      }
    },
    {
      "cell_type": "code",
      "source": [
        "color_list_1 = set([\"White\", \"Black\", \"Red\"]) \n",
        "color_list_2 = set([\"Red\", \"Green\"])\n",
        "a=color_list_1 ^ color_list_2\n",
        "print(\"The expected output is:\",a)"
      ],
      "metadata": {
        "colab": {
          "base_uri": "https://localhost:8080/"
        },
        "id": "jjv_mpXU8o_C",
        "outputId": "083bbf6e-94bc-40da-fe07-89268b6edb72"
      },
      "execution_count": 8,
      "outputs": [
        {
          "output_type": "stream",
          "name": "stdout",
          "text": [
            "The expected output is: {'Green', 'White', 'Black'}\n"
          ]
        }
      ]
    },
    {
      "cell_type": "markdown",
      "source": [
        "Q11: Given a Python list. Write a python program to turn every item of a list into its \n",
        "square \n",
        "List1 = [1, 2, 3, 4, 5, 6, 7]\n",
        "Expected output:\n",
        "[1, 4, 9, 16, 25, 36, 49]"
      ],
      "metadata": {
        "id": "KYlShIXR8pOa"
      }
    },
    {
      "cell_type": "code",
      "source": [
        "list1 = [1, 2, 3, 4, 5, 6, 7]\n",
        "a=[int(i**2)for i in list1]\n",
        "print(\"The expected output is:\",a)"
      ],
      "metadata": {
        "colab": {
          "base_uri": "https://localhost:8080/"
        },
        "id": "f3vZAHJS8pde",
        "outputId": "0172fb33-7506-4482-c16e-61592dd622bb"
      },
      "execution_count": 9,
      "outputs": [
        {
          "output_type": "stream",
          "name": "stdout",
          "text": [
            "The expected output is: [1, 4, 9, 16, 25, 36, 49]\n"
          ]
        }
      ]
    },
    {
      "cell_type": "markdown",
      "source": [
        "\n",
        "\n",
        "Q12: Program to count the number of each vowel in a string"
      ],
      "metadata": {
        "id": "DWnuwz2o8psw"
      }
    },
    {
      "cell_type": "code",
      "source": [
        "a=str(input(\"Enter the string :\",))\n",
        "b='aeiouAEIOU'\n",
        "count={}.fromkeys(b,0) \n",
        "for i in b:\n",
        "    for j in a:\n",
        "        if i==j:\n",
        "            count[i]+=1\n",
        "print(\"The expected output is\",count)"
      ],
      "metadata": {
        "colab": {
          "base_uri": "https://localhost:8080/"
        },
        "id": "ddpTJUc78p8B",
        "outputId": "83ea8726-81a6-40bd-9fbb-2f38576f0009"
      },
      "execution_count": 11,
      "outputs": [
        {
          "output_type": "stream",
          "name": "stdout",
          "text": [
            "Enter the string :Artificial Intelligence\n",
            "The expected output is {'a': 1, 'e': 3, 'i': 4, 'o': 0, 'u': 0, 'A': 1, 'E': 0, 'I': 1, 'O': 0, 'U': 0}\n"
          ]
        }
      ]
    },
    {
      "cell_type": "markdown",
      "source": [
        "\n",
        "Q13:Write a python program to Access the value of key ‘history’ from the following dictionary\u0002sampleDict = {\n",
        "\"class\":{\n",
        "\"student\":{\n",
        "\"name\":\"Mike\",\n",
        "\"marks\":{\n",
        "\"physics\":70,\n",
        "\"history\":80\n",
        "}\n",
        "}\n",
        "}\n",
        "}"
      ],
      "metadata": {
        "id": "sDYVFI8G8qL7"
      }
    },
    {
      "cell_type": "code",
      "source": [
        "sampleDict = {\n",
        "\"class\":{\n",
        "\"student\":{\n",
        "\"name\":\"Mike\",\n",
        "\"marks\":{\n",
        "\"physics\":70,\n",
        "\"history\":80\n",
        "}\n",
        "}\n",
        "}\n",
        "}\n",
        "print(sampleDict[\"class\"][\"student\"][\"marks\"][\"history\"])"
      ],
      "metadata": {
        "colab": {
          "base_uri": "https://localhost:8080/"
        },
        "id": "n634JjfS8qbP",
        "outputId": "6a32bf2c-9748-41d7-ee6f-c9207ca9a00b"
      },
      "execution_count": 12,
      "outputs": [
        {
          "output_type": "stream",
          "name": "stdout",
          "text": [
            "80\n"
          ]
        }
      ]
    },
    {
      "cell_type": "markdown",
      "source": [
        "Q 14: write a Program to Remove Punctuations from a String provided by the user. [Hint: use \n",
        "punctuation attribute of string module to get all punctuations (i.e. !\"#$%&\\'()*+,-\n",
        "./:;<=>?@[\\\\]^_`{|}~ ) ]"
      ],
      "metadata": {
        "id": "MvLgxvVB8qp-"
      }
    },
    {
      "cell_type": "code",
      "source": [
        "import string\n",
        "a=str(input(\"Enter your string:\"))\n",
        "b=string.punctuation\n",
        "for i in a:\n",
        "    if i in b:\n",
        "        a=a.replace(i,\"\")\n",
        "print(a) "
      ],
      "metadata": {
        "colab": {
          "base_uri": "https://localhost:8080/"
        },
        "id": "nkyjyNs28q4I",
        "outputId": "1f00022c-d384-4bd0-cfb3-8ca609e6c2b8"
      },
      "execution_count": 13,
      "outputs": [
        {
          "output_type": "stream",
          "name": "stdout",
          "text": [
            "Enter your string:Artificial!37&#$Inte?lligEn][ce\n",
            "Artificial37IntelligEnce\n"
          ]
        }
      ]
    },
    {
      "cell_type": "markdown",
      "source": [
        "Q15: Write a python program to print the Following:\n",
        "\n",
        "\n",
        "```\n",
        "1\n",
        "2 1\n",
        "3 2 1\n",
        "```\n",
        "\n"
      ],
      "metadata": {
        "id": "HgIHLrmH8rMM"
      }
    },
    {
      "cell_type": "code",
      "source": [
        "for i in range(1,4):\n",
        "  for j in range(i,0,-1):\n",
        "    print(j, end=\" \")\n",
        "  print()\n"
      ],
      "metadata": {
        "colab": {
          "base_uri": "https://localhost:8080/"
        },
        "id": "YcOwtFFu8ra1",
        "outputId": "0334b65a-5bdf-420d-83a7-a0359269c215"
      },
      "execution_count": 14,
      "outputs": [
        {
          "output_type": "stream",
          "name": "stdout",
          "text": [
            "1 \n",
            "2 1 \n",
            "3 2 1 \n"
          ]
        }
      ]
    },
    {
      "cell_type": "markdown",
      "source": [
        "Q16: WAP to print the following asterisk pattern:\n",
        "\n",
        "\n",
        "```\n",
        "*\n",
        "* *\n",
        "* * *\n",
        "* * * *\n",
        "* * * * *\n",
        "* * * * * *\n",
        "```\n",
        "\n"
      ],
      "metadata": {
        "id": "jVdPu8G88rqx"
      }
    },
    {
      "cell_type": "code",
      "source": [
        "n = int(input(\"row:\"))\n",
        "for i in range(1,n+1):\n",
        "    print('* '* i)\n",
        "    "
      ],
      "metadata": {
        "colab": {
          "base_uri": "https://localhost:8080/"
        },
        "id": "qr_PBcGB8r7_",
        "outputId": "1e6b819e-cf2e-4ad2-ee8b-1edc1f3ada6e"
      },
      "execution_count": 18,
      "outputs": [
        {
          "output_type": "stream",
          "name": "stdout",
          "text": [
            "row:6\n",
            "* \n",
            "* * \n",
            "* * * \n",
            "* * * * \n",
            "* * * * * \n",
            "* * * * * * \n"
          ]
        }
      ]
    },
    {
      "cell_type": "markdown",
      "source": [
        "Q17: WAP to create a function traiangle to print the following asterisk triangle pattern:\n",
        "\n",
        "\n",
        "```\n",
        "*\n",
        "* *\n",
        "* * *\n",
        "* * * *\n",
        "* * *\n",
        "* *\n",
        "*\n",
        "```\n",
        "\n"
      ],
      "metadata": {
        "id": "HrDZqBePHwKl"
      }
    },
    {
      "cell_type": "code",
      "source": [
        "a=[]\n",
        "for i in range(1,5):\n",
        "  print('* '* i)\n",
        "  a.append('* '* i)\n",
        "del a[-1]\n",
        "for j in a[::-1]:\n",
        "  print(j)"
      ],
      "metadata": {
        "colab": {
          "base_uri": "https://localhost:8080/"
        },
        "id": "R2kH4eRqHwdi",
        "outputId": "b7583743-a23b-490d-f7f0-e3e7c5e5d570"
      },
      "execution_count": 19,
      "outputs": [
        {
          "output_type": "stream",
          "name": "stdout",
          "text": [
            "* \n",
            "* * \n",
            "* * * \n",
            "* * * * \n",
            "* * * \n",
            "* * \n",
            "* \n"
          ]
        }
      ]
    },
    {
      "cell_type": "markdown",
      "source": [
        "Q18: Write a python program to print following multiplication table."
      ],
      "metadata": {
        "id": "F67rYgwBIt8-"
      }
    },
    {
      "cell_type": "code",
      "source": [
        "for i in range(1,11):\n",
        "    print(\"\\t\",i,end=\" \")\n",
        "print(\"\\n   +---------------------------------------------------------------------------------\")\n",
        "for j in range(1,11):\n",
        "    if j<10:\n",
        "        print(\" \",end=\"\")\n",
        "    print(j,\"| \",end=\"\\t\")\n",
        "    for i in range(1,11):\n",
        "            print(i*j,end=\"\\t\")\n",
        "    print()"
      ],
      "metadata": {
        "colab": {
          "base_uri": "https://localhost:8080/"
        },
        "id": "OMRCTk7GIuOe",
        "outputId": "0aa8b0cd-d832-4ae6-80b8-db58316e6d24"
      },
      "execution_count": 20,
      "outputs": [
        {
          "output_type": "stream",
          "name": "stdout",
          "text": [
            "\t 1 \t 2 \t 3 \t 4 \t 5 \t 6 \t 7 \t 8 \t 9 \t 10 \n",
            "   +---------------------------------------------------------------------------------\n",
            " 1 | \t1\t2\t3\t4\t5\t6\t7\t8\t9\t10\t\n",
            " 2 | \t2\t4\t6\t8\t10\t12\t14\t16\t18\t20\t\n",
            " 3 | \t3\t6\t9\t12\t15\t18\t21\t24\t27\t30\t\n",
            " 4 | \t4\t8\t12\t16\t20\t24\t28\t32\t36\t40\t\n",
            " 5 | \t5\t10\t15\t20\t25\t30\t35\t40\t45\t50\t\n",
            " 6 | \t6\t12\t18\t24\t30\t36\t42\t48\t54\t60\t\n",
            " 7 | \t7\t14\t21\t28\t35\t42\t49\t56\t63\t70\t\n",
            " 8 | \t8\t16\t24\t32\t40\t48\t56\t64\t72\t80\t\n",
            " 9 | \t9\t18\t27\t36\t45\t54\t63\t72\t81\t90\t\n",
            "10 | \t10\t20\t30\t40\t50\t60\t70\t80\t90\t100\t\n"
          ]
        }
      ]
    }
  ]
}