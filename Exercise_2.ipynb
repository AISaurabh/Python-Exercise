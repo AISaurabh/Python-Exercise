{
  "nbformat": 4,
  "nbformat_minor": 0,
  "metadata": {
    "colab": {
      "provenance": []
    },
    "kernelspec": {
      "name": "python3",
      "display_name": "Python 3"
    },
    "language_info": {
      "name": "python"
    }
  },
  "cells": [
    {
      "cell_type": "markdown",
      "source": [
        "1. Create a string containing both a single quote a double quote "
      ],
      "metadata": {
        "id": "a7Aj4c0Vyp--"
      }
    },
    {
      "cell_type": "code",
      "execution_count": 1,
      "metadata": {
        "colab": {
          "base_uri": "https://localhost:8080/"
        },
        "id": "CNewTzPCyjrg",
        "outputId": "57b40343-51a7-4c52-f931-9279a0b64bc4"
      },
      "outputs": [
        {
          "output_type": "stream",
          "name": "stdout",
          "text": [
            "\"Is it right?\" he asked.\n"
          ]
        }
      ],
      "source": [
        "a='\"Is it right?\" he asked.'\n",
        "print(a)"
      ]
    },
    {
      "cell_type": "markdown",
      "source": [
        "2.Create a triple quoted string that contains single and double quotes. "
      ],
      "metadata": {
        "id": "dwsYOnYnyrot"
      }
    },
    {
      "cell_type": "code",
      "source": [
        "a=\"\"\"\"Isn't it right?\" he asked.\"\"\"\n",
        "print(a)"
      ],
      "metadata": {
        "colab": {
          "base_uri": "https://localhost:8080/"
        },
        "id": "4y-vKsTbysFT",
        "outputId": "a519c45c-0a3c-4e38-b917-63aaf6d99dc0"
      },
      "execution_count": 2,
      "outputs": [
        {
          "output_type": "stream",
          "name": "stdout",
          "text": [
            "\"Isn't it right?\" he asked.\n"
          ]
        }
      ]
    },
    {
      "cell_type": "markdown",
      "source": [
        "\n",
        "3.Create a character, then obtain its integer representation. "
      ],
      "metadata": {
        "id": "Xs2XwR3JysXC"
      }
    },
    {
      "cell_type": "code",
      "source": [
        "a=chr(77)\n",
        "print(a)\n",
        "b=ord(a)\n",
        "print(b)"
      ],
      "metadata": {
        "colab": {
          "base_uri": "https://localhost:8080/"
        },
        "id": "t8XWgKnHysl0",
        "outputId": "8abf3ce9-4792-4ec7-a22f-e7076f3f4d6b"
      },
      "execution_count": 3,
      "outputs": [
        {
          "output_type": "stream",
          "name": "stdout",
          "text": [
            "M\n",
            "77\n"
          ]
        }
      ]
    },
    {
      "cell_type": "markdown",
      "source": [
        "4.Create a single string containing 5 copies of the string 'abc'. "
      ],
      "metadata": {
        "id": "zwd6YExCys2a"
      }
    },
    {
      "cell_type": "code",
      "source": [
        "x=\"abc\"\n",
        "y=x*5\n",
        "print(\"The solution of given problem is :\",\"\\n\",y)"
      ],
      "metadata": {
        "colab": {
          "base_uri": "https://localhost:8080/"
        },
        "id": "NbDPfMyOytFk",
        "outputId": "93429f16-51fb-4ace-98ef-3d454295e23b"
      },
      "execution_count": 4,
      "outputs": [
        {
          "output_type": "stream",
          "name": "stdout",
          "text": [
            "The solution of given problem is : \n",
            " abcabcabcabcabc\n"
          ]
        }
      ]
    },
    {
      "cell_type": "markdown",
      "source": [
        "5.Use the multiplication operator to create a \"line\" of 50 dashes. "
      ],
      "metadata": {
        "id": "gbCcDm8PytXE"
      }
    },
    {
      "cell_type": "code",
      "source": [
        "a='-'*50\n",
        "print(\"The solution of given problem is :\",\"\\n\",a)"
      ],
      "metadata": {
        "colab": {
          "base_uri": "https://localhost:8080/"
        },
        "id": "ZuztxH-cytoB",
        "outputId": "31cc7030-49a4-4a73-a1f5-4efc27795977"
      },
      "execution_count": 5,
      "outputs": [
        {
          "output_type": "stream",
          "name": "stdout",
          "text": [
            "The solution of given problem is : \n",
            " --------------------------------------------------\n"
          ]
        }
      ]
    },
    {
      "cell_type": "markdown",
      "source": [
        "6.Convert a string to all upper case. "
      ],
      "metadata": {
        "id": "FRhZ-LoKyt7S"
      }
    },
    {
      "cell_type": "code",
      "source": [
        "a=\"cdac noida\"\n",
        "b=a.upper()\n",
        "print(\"The uppercase is :\",b)"
      ],
      "metadata": {
        "colab": {
          "base_uri": "https://localhost:8080/"
        },
        "id": "UNg5fOoWyuNd",
        "outputId": "942ae5e1-d2f4-45b5-fb35-00db61f9538f"
      },
      "execution_count": 7,
      "outputs": [
        {
          "output_type": "stream",
          "name": "stdout",
          "text": [
            "The uppercase is : CDAC NOIDA\n"
          ]
        }
      ]
    },
    {
      "cell_type": "markdown",
      "source": [
        "\n",
        "Q7 : Write a Python program to get a string made of the first 2 and the last 2 chars from a given a string.\n"
      ],
      "metadata": {
        "id": "BYmiHZM8yugY"
      }
    },
    {
      "cell_type": "code",
      "source": [
        "a=\"CDAC NOIDA\"\n",
        "b=(a[:2]+a[-2:])\n",
        "print(\"The solution is :\",b)"
      ],
      "metadata": {
        "colab": {
          "base_uri": "https://localhost:8080/"
        },
        "id": "e3LXExZEyuxz",
        "outputId": "3ed5c5c6-8e61-4684-d0c4-e98dc19491d0"
      },
      "execution_count": 9,
      "outputs": [
        {
          "output_type": "stream",
          "name": "stdout",
          "text": [
            "The solution is : CDDA\n"
          ]
        }
      ]
    },
    {
      "cell_type": "markdown",
      "source": [
        "Q8: a Python program to get a string from a given string where all occurrences of its first char have been changed to '#', except the first char itself.\n",
        "Sample String : 'restart',\n",
        "Expected Result : 'resta#t'\n"
      ],
      "metadata": {
        "id": "XMtCSeu50n9g"
      }
    },
    {
      "cell_type": "code",
      "source": [
        "a=\"restart\"\n",
        "print(a[:5]+'#'+a[-1:])"
      ],
      "metadata": {
        "colab": {
          "base_uri": "https://localhost:8080/"
        },
        "id": "oL6laBAo0oUY",
        "outputId": "32c92338-5636-4fa8-aeed-cdcec7fdf83e"
      },
      "execution_count": 11,
      "outputs": [
        {
          "output_type": "stream",
          "name": "stdout",
          "text": [
            "resta#t\n"
          ]
        }
      ]
    },
    {
      "cell_type": "markdown",
      "source": [
        "Q9: Write a Python program to get a single string from two given strings, separated by a space and swap the first two characters of each string.\n",
        "Sample String : 'abc', 'xyz'. \n",
        "Expected Result : 'xyc abz'\n"
      ],
      "metadata": {
        "id": "ONk2jeJEyvCz"
      }
    },
    {
      "cell_type": "code",
      "source": [
        "a=\"abc\"\n",
        "b=\"xyz\"\n",
        "print(\"The solution is :\",\"\\n\",(a.replace(a[:2],b[:2]),b.replace(b[:2],a[:2])))"
      ],
      "metadata": {
        "colab": {
          "base_uri": "https://localhost:8080/"
        },
        "id": "Y2FladpOyvWB",
        "outputId": "7638484a-7c1d-4cbf-c207-35c3831531d7"
      },
      "execution_count": 12,
      "outputs": [
        {
          "output_type": "stream",
          "name": "stdout",
          "text": [
            "The solution is : \n",
            " ('xyc', 'abz')\n"
          ]
        }
      ]
    }
  ]
}