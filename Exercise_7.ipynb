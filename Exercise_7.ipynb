{
  "nbformat": 4,
  "nbformat_minor": 0,
  "metadata": {
    "colab": {
      "provenance": []
    },
    "kernelspec": {
      "name": "python3",
      "display_name": "Python 3"
    },
    "language_info": {
      "name": "python"
    }
  },
  "cells": [
    {
      "cell_type": "markdown",
      "source": [
        "Q1: Follow the steps:\n",
        "•\tCreate a class, Triangle. Its __init__() method should take self, angle1, angle2, and angle3 as arguments. Make sure to set these appropriately in the body of the __init__()method.\n",
        "•\tCreate a variable named number_of_sides and set it equal to 3.\n",
        "•\tCreate a method named check_angles. The sum of a triangle's three angles is It should return True if the sum of self.angle1, self.angle2, and self.angle3 is equal 180, and False otherwise.\n",
        "•\tCreate a variable named my_triangle and set it equal to a new instance of your Triangle class. Pass it three angles that sum to 180 (e.g. 90, 30, 60).\n",
        "•\tPrint out my_triangle.number_of_sides and print out my_triangle.check_angles().\n"
      ],
      "metadata": {
        "id": "yIXsNkddoQih"
      }
    },
    {
      "cell_type": "code",
      "execution_count": 6,
      "metadata": {
        "colab": {
          "base_uri": "https://localhost:8080/"
        },
        "id": "ubcSF3jooMi6",
        "outputId": "ae008b94-4039-44a6-bf24-b132f38b7521"
      },
      "outputs": [
        {
          "output_type": "stream",
          "name": "stdout",
          "text": [
            "180\n",
            "True\n"
          ]
        }
      ],
      "source": [
        "class Triangle:\n",
        "  no_of_sides = 3\n",
        "  def __init__(self,a,b,c):\n",
        "    self.an1=a\n",
        "    self.an2=b\n",
        "    self.an3=c\n",
        "    result = self.an1+self.an2+self.an3\n",
        "    print(result)\n",
        "\n",
        "  def Check_Angles(self):\n",
        "    if (self.an1+self.an2+self.an3==180):\n",
        "      print('True')\n",
        "    else:\n",
        "      print('False')\n",
        "\n",
        "t=Triangle(100,20,60)\n",
        "t.Check_Angles()"
      ]
    },
    {
      "cell_type": "markdown",
      "source": [
        "Q2: Define a class called Songs, it will show the lyrics of a song. Its __init__() method should have two arguments:self and lyrics.lyricsis a list. Inside your class create a method called sing_me_a_song that prints each element of lyricson his own line. Define a varible:\n",
        "happy_bday = Song([\"May god bless you, \",\n",
        "                   \"Have a sunshine on you,\",\n",
        "                   \"Happy Birthday to you !\"])\n",
        "Call the sing_me_song method on this variable.\n"
      ],
      "metadata": {
        "id": "e319dFi8oSFm"
      }
    },
    {
      "cell_type": "code",
      "source": [
        "class songs:\n",
        "    def __init__(self,lyrics):\n",
        "        self.lyrics=lyrics\n",
        "    def sing_me_a_song(self):\n",
        "        for i in range(len(self.lyrics)):\n",
        "            print(self.lyrics[i])\n",
        "\n",
        "happy_bday = songs([\"May god bless you, \",\n",
        "                   \"Have a sunshine on you,\",\n",
        "                   \"Happy Birthday to you !\"])\n",
        "\n",
        "happy_bday.sing_me_a_song()"
      ],
      "metadata": {
        "colab": {
          "base_uri": "https://localhost:8080/"
        },
        "id": "60DqX8qhoSYD",
        "outputId": "790cc37d-5226-494d-b53c-ba613fd7a967"
      },
      "execution_count": 7,
      "outputs": [
        {
          "output_type": "stream",
          "name": "stdout",
          "text": [
            "May god bless you, \n",
            "Have a sunshine on you,\n",
            "Happy Birthday to you !\n"
          ]
        }
      ]
    },
    {
      "cell_type": "markdown",
      "source": [
        "Q 3: Define a class called Lunch.Its __init__() method should have two arguments:selfanf menu.Where menu is a string. Add a method called menu_price.It will involve a ifstatement:\n",
        "•\tif \"menu 1\" print \"Your choice:\", menu, \"Price 12.00\", if \"menu 2\" print \"Your choice:\", menu, \"Price 13.40\", else print \"Error in menu\".\n",
        "To check if it works define: Paul=Lunch(\"menu 1\") and call Paul.menu_price().\n"
      ],
      "metadata": {
        "id": "5IAafrL5oSos"
      }
    },
    {
      "cell_type": "code",
      "source": [
        "class Lunch:\n",
        "    def __init__(self,menu):\n",
        "        self.menu=menu\n",
        "    def menu_price(self):\n",
        "        if self.menu==\"Menu1\":\n",
        "            print(\"Your choice menu price : 12.00\")\n",
        "        elif self.menu==\"Menu2\":\n",
        "            print(\"Your choice menu price : 13.40\")\n",
        "        else:\n",
        "            print(\"Error in menu\")\n",
        "\n",
        "a=input(\"Enter your menu here (Menu1/Menu2) :\")\n",
        "paul=Lunch(a)\n",
        "paul.menu_price()"
      ],
      "metadata": {
        "colab": {
          "base_uri": "https://localhost:8080/"
        },
        "id": "QSrOCLx0oS4M",
        "outputId": "97c366e6-bb47-4946-864e-d069642c197a"
      },
      "execution_count": 9,
      "outputs": [
        {
          "output_type": "stream",
          "name": "stdout",
          "text": [
            "Enter your menu here (Menu1/Menu2) :Menu2\n",
            "Your choice menu price : 13.40\n"
          ]
        }
      ]
    },
    {
      "cell_type": "markdown",
      "source": [
        "Q4: Write a Python class which has two methods get_String and print_String. get_String accept a string from the user and print_String print the string in upper case."
      ],
      "metadata": {
        "id": "id2w_mFXoTJY"
      }
    },
    {
      "cell_type": "code",
      "source": [
        "class string:\n",
        "    def __init__(self):\n",
        "        self.string1=\" \"\n",
        "    def get_string(self):\n",
        "        self.string1=input(\"Enter the string value :\")\n",
        "    def print_string(self):\n",
        "        print(self.string1.upper())\n",
        "\n",
        "string1=string()\n",
        "string1.get_string()\n",
        "string1.print_string()"
      ],
      "metadata": {
        "colab": {
          "base_uri": "https://localhost:8080/"
        },
        "id": "Vsj9n9rFoTZh",
        "outputId": "15b6b7b4-5675-479a-833f-b7d9b1403fb4"
      },
      "execution_count": 11,
      "outputs": [
        {
          "output_type": "stream",
          "name": "stdout",
          "text": [
            "Enter the string value :my name is albert\n",
            "MY NAME IS ALBERT\n"
          ]
        }
      ]
    },
    {
      "cell_type": "markdown",
      "source": [
        "Q5: Write a program to find the area and perimeter of a rectangle using classes and objects"
      ],
      "metadata": {
        "id": "Co8b6WrcoTpc"
      }
    },
    {
      "cell_type": "code",
      "source": [
        "class rectangle:\n",
        "    def __init__(self,length,breadth):\n",
        "        self.length=length\n",
        "        self.breadth=breadth\n",
        "    def area(self):\n",
        "        return (self.length*self.breadth)\n",
        "    def perimeter(self):\n",
        "        return (2*(self.length+self.breadth))\n",
        "l=int(input(\"Enter length of a rectangle :\"))\n",
        "b=int(input(\"Enter breadth of a rectangle :\"))\n",
        "print(\"1.Area\")\n",
        "print(\"2.Perimeter\")\n",
        "print(\"3.Exit\")\n",
        "r=rectangle(l,b)\n",
        "x=0\n",
        "while x!=3:\n",
        "    x=int(input(\"Enter your choice :\"))\n",
        "    if (x==1):\n",
        "        print(\"Area of rectangle with length\",l,\"and breadth\",b,\"is\",r.area())\n",
        "    elif (x==2):\n",
        "        print(\"Perimeter of rectangle with length\",l,\"and breadth\",b,\"is\",r.perimeter())\n",
        "else:\n",
        "    print(\"End of program\")"
      ],
      "metadata": {
        "colab": {
          "base_uri": "https://localhost:8080/"
        },
        "id": "XyMRsFKCoT6s",
        "outputId": "b4ec71ea-256d-4304-9a4a-0b57458bd720"
      },
      "execution_count": 12,
      "outputs": [
        {
          "output_type": "stream",
          "name": "stdout",
          "text": [
            "Enter length of a rectangle :20\n",
            "Enter breadth of a rectangle :15\n",
            "1.Area\n",
            "2.Perimeter\n",
            "3.Exit\n",
            "Enter your choice :1\n",
            "Area of rectangle with length 20 and breadth 15 is 300\n",
            "Enter your choice :2\n",
            "Perimeter of rectangle with length 20 and breadth 15 is 70\n",
            "Enter your choice :3\n",
            "End of program\n"
          ]
        }
      ]
    }
  ]
}