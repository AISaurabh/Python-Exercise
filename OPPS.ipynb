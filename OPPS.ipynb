{
  "nbformat": 4,
  "nbformat_minor": 0,
  "metadata": {
    "colab": {
      "provenance": []
    },
    "kernelspec": {
      "name": "python3",
      "display_name": "Python 3"
    },
    "language_info": {
      "name": "python"
    }
  },
  "cells": [
    {
      "cell_type": "markdown",
      "source": [
        "1.\tDefine a class to represent a bank account. Include the following members: \n",
        "Data Members:\n",
        "a.Name of the Depositor\n",
        "b.Account Number\n",
        "c.Type of Account\n",
        "d.Balance amount in the account\n",
        "Data Methods:\n",
        "a.To assign initial values\n",
        "b.To deposit an amount\n",
        "c.To withdraw an amount\n",
        "d.To display name and balance.\n",
        "\n",
        "Output:\n",
        "1.\tNew customer\n",
        "2.\tDeposit\n",
        "3.\tWithdrawal\n",
        "4.\tDisplay\n",
        "5.\tExit\n"
      ],
      "metadata": {
        "id": "AsZ9b4F5UyJd"
      }
    },
    {
      "cell_type": "code",
      "execution_count": 1,
      "metadata": {
        "colab": {
          "base_uri": "https://localhost:8080/"
        },
        "id": "5NFmEaLVUoo7",
        "outputId": "ff8b226b-9141-4654-daf3-cc0fa4d36538"
      },
      "outputs": [
        {
          "output_type": "stream",
          "name": "stdout",
          "text": [
            "Enter the name of depositor :ABC XYZ\n",
            "Enter the account number :12345\n",
            "Enter the type of account :saving\n",
            "Enter the balance amount :1500\n",
            "1.New customer \n",
            " 2.Deposit \n",
            " 3.Withdrawal \n",
            " 4.Display \n",
            " 5.Exit\n",
            "Enter your choice :2\n",
            "Enter the deposite amount :500\n",
            "The available balance is : 2000\n",
            "Enter your choice :3\n",
            "Enter the withdrawal amount :200\n",
            "The available balance is : 1800\n",
            "Enter your choice :4\n",
            "ABC XYZ\n",
            "1800\n",
            "Enter your choice :5\n",
            "Thank you! ABC XYZ for banking with us! \n",
            "  EXIT \n"
          ]
        }
      ],
      "source": [
        "class Bank_Account:\n",
        "    def __init__(self,Name_of_the_Depositor,Account_Number,Type_of_Account,Balance_Amount):\n",
        "        self.Name_of_the_Depositor = Name_of_the_Depositor\n",
        "        self.Account_Number = Account_Number\n",
        "        self.Type_of_Account = Type_of_Account\n",
        "        self.Balance_Amount = Balance_Amount\n",
        "    def Deposit(self,Amount_Added):\n",
        "        self.Amount_Added = Amount_Added\n",
        "        self.Added = self.Balance_Amount + self.Amount_Added\n",
        "        print(\"The available balance is :\", self.Added)\n",
        "    def Withdrawal(self,Amount_Withdrawal):\n",
        "        self.Amount_Withdrawal = Amount_Withdrawal\n",
        "        if (self.Amount_Withdrawal > self.Balance_Amount):\n",
        "            print(\"Sorry!Insufficient funds to withdrawal\")\n",
        "            return\n",
        "        self.Withdrawal = self.Added - self.Amount_Withdrawal\n",
        "        print(\"The available balance is :\", self.Withdrawal)\n",
        "    def Display(self):\n",
        "        print(self.Name_of_the_Depositor)\n",
        "        print(self.Withdrawal)\n",
        "Name_of_the_Depositor = input(\"Enter the name of depositor :\")\n",
        "Account_Number = input(\"Enter the account number :\")\n",
        "Type_of_Account = input(\"Enter the type of account :\")\n",
        "Balance_Amount =int(input(\"Enter the balance amount :\"))\n",
        "B = Bank_Account(Name_of_the_Depositor,Account_Number,Type_of_Account,Balance_Amount)\n",
        "print(\"1.New customer\",\"\\n\",\"2.Deposit\",\"\\n\",\"3.Withdrawal\",\"\\n\",\"4.Display\",\"\\n\",\"5.Exit\")\n",
        "x=0\n",
        "while x!=5:\n",
        "    x=int(input(\"Enter your choice :\"))\n",
        "    if x==1:\n",
        "        print(\"Welcome!\",B.Name_of_the_Depositor,\"\\n\",B.Account_Number,\"\\n\",B.Type_of_Account)\n",
        "    elif x==2:\n",
        "        Amount_Added = int(input(\"Enter the deposite amount :\"))\n",
        "        B.Deposit(Amount_Added)\n",
        "    elif x==3:\n",
        "        Amount_Withdrawal = int(input(\"Enter the withdrawal amount :\"))\n",
        "        B. Withdrawal(Amount_Withdrawal)\n",
        "    elif x==4:\n",
        "        B.Display()\n",
        "else:\n",
        "    print(\"Thank you!\",B.Name_of_the_Depositor,\"for banking with us!\",\"\\n\",\" EXIT \")"
      ]
    },
    {
      "cell_type": "markdown",
      "source": [
        "2. Write a program to implement following. \n",
        "Create a base class named person consisting of name and code. Create 2 child classes\n",
        "a)\tAccount with member_pay\n",
        "b)\tAdmin with experience and inherit the base class.\n",
        "\n",
        "Create a class employee with name, code, experience and pay by inheriting the above classes. \n"
      ],
      "metadata": {
        "id": "XzERiii1Uz1H"
      }
    },
    {
      "cell_type": "code",
      "source": [
        "class person:\n",
        "    def __init__(self,name,code):\n",
        "        self.name = name\n",
        "        self.code = code\n",
        "\n",
        "class account(person):\n",
        "    def __init__(self,name,code,pay):\n",
        "        person. __init__(self,name,code)\n",
        "        self.pay = pay\n",
        "class admin(person):\n",
        "    def __init__(self,name,code,experience):\n",
        "        person. __init__(self,name,code)\n",
        "        self.experience = experience\n",
        "\n",
        "class employee(account,admin):\n",
        "    def __init__(self,name,code,experience,pay):\n",
        "        account. __init__(self,name,code,pay)\n",
        "        admin.__init__(self,name,code,experience)\n",
        "\n",
        "c1=employee(\"Thomas\",1234,\"2 Years\",1200000)\n",
        "print(c1.name,\"\\n\",c1.code,\"\\n\",c1.experience,\"\\n\",c1.pay)"
      ],
      "metadata": {
        "colab": {
          "base_uri": "https://localhost:8080/"
        },
        "id": "E0Q1M4SaU0dq",
        "outputId": "89fb16d9-8f27-41c3-e2bf-76656ac3ea9b"
      },
      "execution_count": 3,
      "outputs": [
        {
          "output_type": "stream",
          "name": "stdout",
          "text": [
            "Thomas \n",
            " 1234 \n",
            " 2 Years \n",
            " 1200000\n"
          ]
        }
      ]
    },
    {
      "cell_type": "markdown",
      "source": [
        "3. Write program to create a base class staff with code and name. Derive classes teacher(subject , publication) , typist (speed) , officer (grade) . Using the typist class as base class,create two classes regular(salary) and  casual(daily wages).Implement a menu driven program for the same.\n",
        "\n",
        "Output:\n",
        "1.\tTeacher\n",
        "2.\tOfficer,\n",
        "3.\tRegular Typist\n",
        "4.\tCasaul typist\n",
        "5.\tExit\n"
      ],
      "metadata": {
        "id": "QyibUc8hU04F"
      }
    },
    {
      "cell_type": "code",
      "source": [
        "class staff:\n",
        "    def __init__(self):\n",
        "        self.name =input(\"Enter your name :\")\n",
        "        self.code =input(\"Enter staff code :\")\n",
        "    def name_code(self):\n",
        "        print(\"your name is :\",self.name)\n",
        "        print(\"staff code is :\",self.code)\n",
        "class teacher(staff):\n",
        "    def __init__(self):\n",
        "        staff.__init__(self)\n",
        "        self.subject =input(\"Enter subject name :\")\n",
        "        self.publication=input(\"Enter publication name :\")\n",
        "    def subject_publication(self):\n",
        "        print(\"subject name is :\",self.subject)\n",
        "        print(\"publication name is :\",self.publication)\n",
        "class typist(staff):\n",
        "    def __init__(self):\n",
        "        staff.__init__(self)\n",
        "        self.speed =input(\"Enter typing speed in words/minute :\")\n",
        "    def speed_typing(self):\n",
        "        print(\"The typing speed is :\",self.speed)\n",
        "class officer(staff):\n",
        "    def __init__(self):\n",
        "        staff.__init__(self)\n",
        "        self.grade=input(\"Enter the grade :\")\n",
        "    def grade_officer(self):\n",
        "        print(\"The officer's grade is :\",self.grade)\n",
        "class regular(typist):\n",
        "    def __init__(self):\n",
        "        typist.__init__(self)\n",
        "        self.salary =int(input(\"Enter salary of regular typist:\"))\n",
        "    def salary_regular(self):\n",
        "        print(\"Regular typist's salary is :\",self.salary)\n",
        "class casual(typist):\n",
        "    def __init__(self):\n",
        "        typist.__init__(self)\n",
        "        self.daily_wages=int(input(\"Enter salary of casual typist:\"))\n",
        "    def dailywages(self):\n",
        "        print(\"Casual typist's daily wages is :\",self.daily_wages)\n",
        "print(\"1.teacher\",\"\\n\",\"2.officer\",\"\\n\",\"3.Regular typist\",\"\\n\",\"4.Casual typist\",\"\\n\",\"5.Exit\")\n",
        "x=0\n",
        "while x!=5:\n",
        "    x=int(input(\"Enter your choice :\"))\n",
        "    if x==1:\n",
        "        t=teacher()\n",
        "        t.name_code()\n",
        "        t.subject_publication()\n",
        "    elif x==2:\n",
        "        o=officer()\n",
        "        o.name_code()\n",
        "        o.grade_officer()\n",
        "    elif x==3:\n",
        "        a=regular()\n",
        "        a.speed_typing()\n",
        "        a.salary_regular()\n",
        "    elif x==4:\n",
        "        b=casual()\n",
        "        b.speed_typing()\n",
        "        b.dailywages()\n",
        "else:\n",
        "    print(\"EXIT\")"
      ],
      "metadata": {
        "colab": {
          "base_uri": "https://localhost:8080/"
        },
        "id": "fQdDQDHlU1IL",
        "outputId": "03d6e006-10f4-4cc4-d79d-ecf95725167d"
      },
      "execution_count": 4,
      "outputs": [
        {
          "output_type": "stream",
          "name": "stdout",
          "text": [
            "1.teacher \n",
            " 2.officer \n",
            " 3.Regular typist \n",
            " 4.Casual typist \n",
            " 5.Exit\n",
            "Enter your choice :1\n",
            "Enter your name :Alex\n",
            "Enter staff code :1234\n",
            "Enter subject name :Maths\n",
            "Enter publication name :phonix\n",
            "your name is : Alex\n",
            "staff code is : 1234\n",
            "subject name is : Maths\n",
            "publication name is : phonix\n",
            "Enter your choice :5\n",
            "EXIT\n"
          ]
        }
      ]
    }
  ]
}