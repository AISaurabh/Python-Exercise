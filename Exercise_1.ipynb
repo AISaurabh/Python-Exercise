{
  "nbformat": 4,
  "nbformat_minor": 0,
  "metadata": {
    "colab": {
      "provenance": []
    },
    "kernelspec": {
      "name": "python3",
      "display_name": "Python 3"
    },
    "language_info": {
      "name": "python"
    }
  },
  "cells": [
    {
      "cell_type": "markdown",
      "source": [
        "Q1: Write a Python program which accept the radius of a circle from the user and compute the area.\n",
        "Sample Output :\n",
        "r = 1.1\n",
        "Area = 3.8013271108436504\n"
      ],
      "metadata": {
        "id": "dXf3GJQ3Z7PV"
      }
    },
    {
      "cell_type": "code",
      "source": [
        "import math\n",
        "r=float(input(\"Enter the radius of circle :\"))\n",
        "area=(math.pi*r*r)\n",
        "print(\"The area of circle is :\",area)"
      ],
      "metadata": {
        "colab": {
          "base_uri": "https://localhost:8080/"
        },
        "id": "R12pKsMwaeOm",
        "outputId": "a1075728-0e29-4c50-c6ac-0dc615e3e1ee"
      },
      "execution_count": null,
      "outputs": [
        {
          "output_type": "stream",
          "name": "stdout",
          "text": [
            "Enter the radius of circle :1.1\n",
            "The area of circle is : 3.8013271108436504\n"
          ]
        }
      ]
    },
    {
      "cell_type": "markdown",
      "source": [
        "Q2: Temperature of a city in Fahrenheit degrees is input through the keyboard. Write a program to convert this temperature into Centigrade degrees. \n"
      ],
      "metadata": {
        "id": "5-N2y5sZbI_z"
      }
    },
    {
      "cell_type": "code",
      "source": [
        "Fahrenheit_degrees=float(input(\"The temperature of city in Fahrenheit degrees is \"))\n",
        "Centigrade_degrees=(Fahrenheit_degrees-32)*5/9\n",
        "print (\"The temperature of city in Centigrade degree is \",Centigrade_degrees)"
      ],
      "metadata": {
        "colab": {
          "base_uri": "https://localhost:8080/"
        },
        "id": "YMOrcnGqbMIm",
        "outputId": "70304ee2-4317-419f-f73c-54540302205c"
      },
      "execution_count": null,
      "outputs": [
        {
          "output_type": "stream",
          "name": "stdout",
          "text": [
            "The temperature of city in Fahrenheit degrees is 100\n",
            "The temperature of city in Centigrade degree is  37.77777777777778\n"
          ]
        }
      ]
    },
    {
      "cell_type": "markdown",
      "source": [
        "\n",
        "Q3: Write a Python Program to make a simple calculator that can add, subtract, multiply and divide \n"
      ],
      "metadata": {
        "id": "r4ZD_1MpbheM"
      }
    },
    {
      "cell_type": "code",
      "source": [
        "a=int(input(\"Enter your First Value :\"))\n",
        "b=int(input(\"Enter your Second Value :\"))\n",
        "w=a+b\n",
        "x=a-b\n",
        "y=a*b\n",
        "z=a/b\n",
        "print(w,\"\\n\",x,\"\\n\",y,\"\\n\",z,\"\\n\")"
      ],
      "metadata": {
        "colab": {
          "base_uri": "https://localhost:8080/"
        },
        "id": "SnWz9iQUbp17",
        "outputId": "edc43761-927b-46dc-99c6-fa1f3f854939"
      },
      "execution_count": null,
      "outputs": [
        {
          "output_type": "stream",
          "name": "stdout",
          "text": [
            "Enter your First Value :3\n",
            "Enter your Second Value :5\n",
            "8 \n",
            " -2 \n",
            " 15 \n",
            " 0.6 \n",
            "\n"
          ]
        }
      ]
    },
    {
      "cell_type": "markdown",
      "source": [
        "Q4: Write a Python Program to calculate the square root"
      ],
      "metadata": {
        "id": "JHhnYrs-ug2q"
      }
    },
    {
      "cell_type": "code",
      "source": [
        "import math\n",
        "a=int(input(\"Enter the value :\"))\n",
        "b=math.sqrt(a)\n",
        "print(\"The square root of given value is :\",b)"
      ],
      "metadata": {
        "colab": {
          "base_uri": "https://localhost:8080/"
        },
        "id": "RaN0hAD9uhc7",
        "outputId": "f311a315-1deb-4087-9b6d-abd2d3112bb2"
      },
      "execution_count": 1,
      "outputs": [
        {
          "output_type": "stream",
          "name": "stdout",
          "text": [
            "Enter the value :5\n",
            "The square root of given value is : 2.23606797749979\n"
          ]
        }
      ]
    },
    {
      "cell_type": "markdown",
      "source": [
        "Q5: Write a Python Program to Solve the quadratic equation ax**2 + bx + c = 0,\n",
        " Coeffients a, b and c are provided by the user\n",
        "\n",
        "[Hint: import complex math module - import cmath]\n"
      ],
      "metadata": {
        "id": "51XqKpsSuiKo"
      }
    },
    {
      "cell_type": "code",
      "source": [
        "import cmath\n",
        "a=int(input('Enter the coefficient of a:'))\n",
        "b=int(input('Enter the coefficient of b:'))\n",
        "c=int(input('Enter the coefficient of c:'))\n",
        "s1=(-b+cmath.sqrt(b**2-4*a*c))/2*a\n",
        "s2=(-b-cmath.sqrt(b**2-4*a*c))/2*a\n",
        "print('The solution of s1 is ',s1,\"\\n\" 'The solution of s2 is ',s2)"
      ],
      "metadata": {
        "colab": {
          "base_uri": "https://localhost:8080/"
        },
        "id": "WHxTd_9Puiaq",
        "outputId": "3828c6d9-5c24-45b3-b922-81af9941bfe3"
      },
      "execution_count": 2,
      "outputs": [
        {
          "output_type": "stream",
          "name": "stdout",
          "text": [
            "Enter the coefficient of a:4\n",
            "Enter the coefficient of b:3\n",
            "Enter the coefficient of c:5\n",
            "The solution of s1 is  (-6+16.852299546352718j) \n",
            "The solution of s2 is  (-6-16.852299546352718j)\n"
          ]
        }
      ]
    },
    {
      "cell_type": "markdown",
      "source": [
        "Q6: Write a Python Program to find the area of triangle.\n",
        "Three sides of the triangle a, b and c are provided by the user\n"
      ],
      "metadata": {
        "id": "PD7QIqeRuiqr"
      }
    },
    {
      "cell_type": "code",
      "source": [
        "import math\n",
        "a=float(input('Side a of triangle is :'))\n",
        "b=float(input('side b of triangle is :'))\n",
        "c=float(input('side c of triangle is :'))\n",
        "s=(a+b+c)/2\n",
        "area=(math.sqrt(s*(s-a)*(s-b)*(s-c)))\n",
        "print('Area of triangle is ',area)\n"
      ],
      "metadata": {
        "colab": {
          "base_uri": "https://localhost:8080/"
        },
        "id": "KJcfV4hsui6k",
        "outputId": "389e1056-10e7-4214-9da0-57b9eab9711e"
      },
      "execution_count": 4,
      "outputs": [
        {
          "output_type": "stream",
          "name": "stdout",
          "text": [
            "Side a of triangle is :3\n",
            "side b of triangle is :5\n",
            "side c of triangle is :5\n",
            "Area of triangle is  7.1545440106270926\n"
          ]
        }
      ]
    },
    {
      "cell_type": "markdown",
      "source": [
        "Q7: If a five-digit number is input through the keyboard, write a program to calculate the sum of its digits without using any loop. (Hint: Use the modulus operator ‘%’) "
      ],
      "metadata": {
        "id": "IMdHexvIujLC"
      }
    },
    {
      "cell_type": "code",
      "source": [
        "x=int(input(\"Enter the five digit number :\"))\n",
        "sum=0\n",
        "remain=x%10\n",
        "sum=sum+remain\n",
        "x=x//10\n",
        "\n",
        "remain=x%10\n",
        "sum=sum+remain\n",
        "x=x//10\n",
        "\n",
        "remain=x%10\n",
        "sum=sum+remain\n",
        "x=x//10\n",
        "\n",
        "remain=x%10\n",
        "sum=sum+remain\n",
        "x=x//10\n",
        "\n",
        "remain=x%10\n",
        "sum=sum+remain\n",
        "\n",
        "print(\"sum of five digit number is : \",sum)"
      ],
      "metadata": {
        "colab": {
          "base_uri": "https://localhost:8080/"
        },
        "id": "nNbWQ4Ejujbl",
        "outputId": "a5088047-149e-43f9-8268-663b2144657b"
      },
      "execution_count": 7,
      "outputs": [
        {
          "output_type": "stream",
          "name": "stdout",
          "text": [
            "Enter the five digit number :12345\n",
            "sum of five digit number is :  15\n"
          ]
        }
      ]
    },
    {
      "cell_type": "markdown",
      "source": [
        "\n",
        "\n",
        "Q8: Write a Python program to print the following string in a specific format\n",
        "\n"
      ],
      "metadata": {
        "id": "vRmIl7ipxTwi"
      }
    },
    {
      "cell_type": "code",
      "source": [
        "print(\"\"\"\n",
        "         Twinkle, twinkle, little star,\n",
        "                 How I wonder what you are!\n",
        "                         Up above the world so high,\n",
        "                         Like a diamond in the sky.\n",
        "         Twinkle, twinkle, little star,\n",
        "                 How I wonder what you are\n",
        "                                           \"\"\") "
      ],
      "metadata": {
        "colab": {
          "base_uri": "https://localhost:8080/"
        },
        "id": "Bc5bKhcFxUCQ",
        "outputId": "38823263-0439-4f6c-e6d7-dd17424765f5"
      },
      "execution_count": 8,
      "outputs": [
        {
          "output_type": "stream",
          "name": "stdout",
          "text": [
            "\n",
            "         Twinkle, twinkle, little star,\n",
            "                 How I wonder what you are!\n",
            "                         Up above the world so high,\n",
            "                         Like a diamond in the sky.\n",
            "         Twinkle, twinkle, little star,\n",
            "                 How I wonder what you are\n",
            "                                           \n"
          ]
        }
      ]
    },
    {
      "cell_type": "markdown",
      "source": [
        "Q9: Write a Python program to display your details like name, age, address in three different lines."
      ],
      "metadata": {
        "id": "IE7BjU7wxgxl"
      }
    },
    {
      "cell_type": "code",
      "source": [
        "print(\"\"\"\n",
        "         Name: ABC XYZ.\n",
        "         Age : 25.\n",
        "         Address: Silicon Vally, California.\n",
        "                                        \"\"\")"
      ],
      "metadata": {
        "colab": {
          "base_uri": "https://localhost:8080/"
        },
        "id": "HuRSuXAMxhAL",
        "outputId": "a83aac24-61b3-473d-aa07-bf1a44de6498"
      },
      "execution_count": 9,
      "outputs": [
        {
          "output_type": "stream",
          "name": "stdout",
          "text": [
            "\n",
            "         Name: ABC XYZ.\n",
            "         Age : 25.\n",
            "         Address: Silicon Vally, California.\n",
            "                                        \n"
          ]
        }
      ]
    }
  ]
}