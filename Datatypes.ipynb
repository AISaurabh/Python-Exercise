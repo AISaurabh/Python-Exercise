{
  "nbformat": 4,
  "nbformat_minor": 0,
  "metadata": {
    "colab": {
      "provenance": []
    },
    "kernelspec": {
      "name": "python3",
      "display_name": "Python 3"
    },
    "language_info": {
      "name": "python"
    }
  },
  "cells": [
    {
      "cell_type": "markdown",
      "source": [
        "Q1: Write a Python program to sum all the items in a list"
      ],
      "metadata": {
        "id": "4yzQOvhE1nYH"
      }
    },
    {
      "cell_type": "code",
      "execution_count": 1,
      "metadata": {
        "colab": {
          "base_uri": "https://localhost:8080/"
        },
        "id": "QvZcB_2_1kAw",
        "outputId": "eaa3b7cd-4d40-403f-9a57-07ea4fe1d60c"
      },
      "outputs": [
        {
          "output_type": "stream",
          "name": "stdout",
          "text": [
            "The sum of all the items in a list is : 105\n"
          ]
        }
      ],
      "source": [
        "a=[10,25,30,35,5]\n",
        "b=sum(a)\n",
        "print(\"The sum of all the items in a list is :\",b)"
      ]
    },
    {
      "cell_type": "markdown",
      "source": [
        "Q2: Write a Python program to get the largest number from a list."
      ],
      "metadata": {
        "id": "22ub4th01pnK"
      }
    },
    {
      "cell_type": "code",
      "source": [
        "a=[10,200,36,64,126]\n",
        "print(\"The largest number from a list is :\",max(a))"
      ],
      "metadata": {
        "colab": {
          "base_uri": "https://localhost:8080/"
        },
        "id": "tFBnD2mX1p3e",
        "outputId": "fb26927a-6617-4b21-d0b5-a67c1e7f5a9c"
      },
      "execution_count": 2,
      "outputs": [
        {
          "output_type": "stream",
          "name": "stdout",
          "text": [
            "The largest number from a list is : 200\n"
          ]
        }
      ]
    },
    {
      "cell_type": "markdown",
      "source": [
        "Q3: Write a Python program to get the smallest number from a list."
      ],
      "metadata": {
        "id": "K1JQIBYm1qH-"
      }
    },
    {
      "cell_type": "code",
      "source": [
        "a=[10,200,36,64,126]\n",
        "print(\"The smallest number from a list is :\",min(a))"
      ],
      "metadata": {
        "colab": {
          "base_uri": "https://localhost:8080/"
        },
        "id": "ppg2s_6o1qdP",
        "outputId": "ced9197f-e372-4b67-e5ce-3123e7c8a421"
      },
      "execution_count": 3,
      "outputs": [
        {
          "output_type": "stream",
          "name": "stdout",
          "text": [
            "The smallest number from a list is : 10\n"
          ]
        }
      ]
    },
    {
      "cell_type": "markdown",
      "source": [
        "Q4: Write a Python program to display the first and last colors from the following list.\n",
        "color_list = [\"Red\",\"Green\",\"White\" ,\"Black\"]"
      ],
      "metadata": {
        "id": "Wk6-mAKv1qu5"
      }
    },
    {
      "cell_type": "code",
      "source": [
        "color_list=[\"Red\",\"Green\",\"White\",\"Black\"]\n",
        "print(\"The first and last color from the list is :\",color_list[:4:3])"
      ],
      "metadata": {
        "colab": {
          "base_uri": "https://localhost:8080/"
        },
        "id": "b3KdR3mH1q-5",
        "outputId": "f3442776-8d51-4a92-ecc4-b110edb2d19d"
      },
      "execution_count": 9,
      "outputs": [
        {
          "output_type": "stream",
          "name": "stdout",
          "text": [
            "The first and last color from the list is : ['Red', 'Black']\n"
          ]
        }
      ]
    },
    {
      "cell_type": "markdown",
      "source": [
        "Q5: Write a Python program to add 'ing' at the end of a given string (length should be at least 3). \n",
        "If the given string is already ends with 'ing' then add 'ly' instead."
      ],
      "metadata": {
        "id": "vYd4f0L31rOt"
      }
    },
    {
      "cell_type": "code",
      "source": [
        "a=str(input(\"The string is :\",))\n",
        "if (len(a)>=3):\n",
        "    if (a[-3:]=='ing'):\n",
        "        a=a+'ly'\n",
        "        print(\"The string is :\",a)\n",
        "    else:\n",
        "        a=a+'ing'\n",
        "        print(\"The string is:\",a)"
      ],
      "metadata": {
        "colab": {
          "base_uri": "https://localhost:8080/"
        },
        "id": "0LVxFXUE1rd_",
        "outputId": "ca06d6ee-8972-40bf-f53c-311916030a5e"
      },
      "execution_count": 13,
      "outputs": [
        {
          "output_type": "stream",
          "name": "stdout",
          "text": [
            "The string is :read\n",
            "The string is: reading\n"
          ]
        }
      ]
    },
    {
      "cell_type": "markdown",
      "source": [
        "Q6: The marks obtained by a student in 5 different Subjects are input through a keyboard. The \n",
        "Student gets a division as per the following rules.\n",
        "1. Percentage above or equal to 60 – First Division\n",
        "2. Percentage between 50 and 59 – Second Division\n",
        "3. Percentage between 40 and 49 – Third Division\n",
        "4. Percentage less than 40 – Fail\n",
        "Write a python program to Display the result based on the above Criteria."
      ],
      "metadata": {
        "id": "YJQa-SKr1rvA"
      }
    },
    {
      "cell_type": "code",
      "source": [
        "a=int(input(\"The marks of Mathematics is :\",))\n",
        "b=int(input(\"The marks of English is :\",))\n",
        "c=int(input(\"The marks of Chemistry is :\",))\n",
        "d=int(input(\"The marks of physics is :\",))\n",
        "e=int(input(\"The marks of Economics is :\",))\n",
        "x=((a+b+c+d+e)/500)*100\n",
        "if x>=60:\n",
        "    print(\"Congratulations you are pass with First division\")\n",
        "elif 50<= x <=59:\n",
        "    print(\"Congratulations you are pass with Second division\")\n",
        "elif 40<= x <=49:\n",
        "    print(\"Congratulations you are pass with Third division\")\n",
        "else:\n",
        "    print(\"Sorry you are Fail\")"
      ],
      "metadata": {
        "colab": {
          "base_uri": "https://localhost:8080/"
        },
        "id": "zwvq3ejF1sAc",
        "outputId": "b224a2f7-58f3-401f-e2f7-6f22bd62bdf5"
      },
      "execution_count": 14,
      "outputs": [
        {
          "output_type": "stream",
          "name": "stdout",
          "text": [
            "The marks of Mathematics is :50\n",
            "The marks of English is :60\n",
            "The marks of Chemistry is :70\n",
            "The marks of physics is :80\n",
            "The marks of Economics is :75\n",
            "Congratulations you are pass with First division\n"
          ]
        }
      ]
    },
    {
      "cell_type": "markdown",
      "source": [
        "Q7: write a Python program to find the largest number among the three input numbers"
      ],
      "metadata": {
        "id": "GG0px0oV1sQV"
      }
    },
    {
      "cell_type": "code",
      "source": [
        "a=int(input(\"Your first value is :\",))\n",
        "b=int(input(\"Your second value is :\",))\n",
        "c=int(input(\"Your third value is :\",))\n",
        "if a>b and a>c:\n",
        "    print(\"The largest number is\",a)\n",
        "elif b>a and b>c:\n",
        "        print(\"The largest number is\",b)\n",
        "else:\n",
        "    print(\"The largest number is\",c)"
      ],
      "metadata": {
        "colab": {
          "base_uri": "https://localhost:8080/"
        },
        "id": "BpfjbJ1Y1sgw",
        "outputId": "c17db729-b24e-4d36-9fec-75af017af0f1"
      },
      "execution_count": 15,
      "outputs": [
        {
          "output_type": "stream",
          "name": "stdout",
          "text": [
            "Your first value is :45\n",
            "Your second value is :23\n",
            "Your third value is :10\n",
            "The largest number is 45\n"
          ]
        }
      ]
    },
    {
      "cell_type": "markdown",
      "source": [
        "Q8: Write a Python program to check if the input year is a leap year or not."
      ],
      "metadata": {
        "id": "Sw17ZB2a1uIH"
      }
    },
    {
      "cell_type": "code",
      "source": [
        "a=int(input(\"The input year is :\",))\n",
        "if a%4==0 and a%100!=0:\n",
        "    print(\"This is a leap year\")\n",
        "elif a%100==0 and a%400==0:\n",
        "        print(\"This is a leap year\")\n",
        "    \n",
        "else:\n",
        "    print(\"This is not a leap year\")"
      ],
      "metadata": {
        "colab": {
          "base_uri": "https://localhost:8080/"
        },
        "id": "Asabi_Rf1ua3",
        "outputId": "ceea8be0-92ca-493a-82ab-5810f96f7960"
      },
      "execution_count": 16,
      "outputs": [
        {
          "output_type": "stream",
          "name": "stdout",
          "text": [
            "The input year is :2020\n",
            "This is a leap year\n"
          ]
        }
      ]
    },
    {
      "cell_type": "markdown",
      "source": [
        "Q9: write a Program to check if a string is palindrome or not"
      ],
      "metadata": {
        "id": "Mc3mMdOY1uvR"
      }
    },
    {
      "cell_type": "code",
      "source": [
        "s=str(input(\"Your string is :\"))\n",
        "a = s.lower()\n",
        "if a[::-1]==a:\n",
        "    print(\"The given string is palindrome\")\n",
        "else:\n",
        "    print(\"The given string is not a palindrome\")"
      ],
      "metadata": {
        "colab": {
          "base_uri": "https://localhost:8080/"
        },
        "id": "B91J_8Ey1vAs",
        "outputId": "cc774b19-52c6-4ff1-f19e-3286b5981393"
      },
      "execution_count": 21,
      "outputs": [
        {
          "output_type": "stream",
          "name": "stdout",
          "text": [
            "Your string is :Madam\n",
            "The given string is palindrome\n"
          ]
        }
      ]
    },
    {
      "cell_type": "markdown",
      "source": [
        "Q10: write a Program to sort alphabetically the words form a string provided by the user. [You \n",
        "can use split() method to split string into a list of words. ]"
      ],
      "metadata": {
        "id": "BW15GBbs1vTw"
      }
    },
    {
      "cell_type": "code",
      "source": [
        "a=str(input(\"The given string is :\"))\n",
        "b=a.split()\n",
        "c=b.sort()\n",
        "c=b\n",
        "print(\"The solution is :\",c)"
      ],
      "metadata": {
        "colab": {
          "base_uri": "https://localhost:8080/"
        },
        "id": "Q_0wDJao1vmx",
        "outputId": "2d8a78ff-0e61-447b-d5d4-ad46598b5cfb"
      },
      "execution_count": 28,
      "outputs": [
        {
          "output_type": "stream",
          "name": "stdout",
          "text": [
            "The given string is :my name is albert\n",
            "The solution is : ['albert', 'is', 'my', 'name']\n"
          ]
        }
      ]
    },
    {
      "cell_type": "markdown",
      "source": [
        "Q11: Given a nested list. Write a python program to extend it with adding sub list [\"h\", \"i\", \"j\"] \n",
        "in a such a way that it will look like the following list\n",
        "Given List:\n",
        "list1 = [\"a\", \"b\", [\"c\", [\"d\", \"e\", [\"f\", \"g\"], \"k\"], \"l\"], \"m\", \"n\"]\n",
        "Sub List to be added = [\"h\", \"i\", \"j\"]\n",
        "Expected output:\n",
        "['a', 'b', ['c', ['d', 'e', ['f', 'g', 'h', 'i', 'j'], 'k'], 'l'], 'm', 'n']"
      ],
      "metadata": {
        "id": "LlYleT3l78yO"
      }
    },
    {
      "cell_type": "code",
      "source": [
        "list1=[\"a\",\"b\",[\"c\",[\"d\",\"e\",[\"f\",\"g\"],\"k\"],\"l\"],\"m\",\"n\"]\n",
        "a=[\"h\",\"i\",\"j\"]\n",
        "list1[2][1][2].extend(a)\n",
        "print(\"The updated list is \",list1)"
      ],
      "metadata": {
        "colab": {
          "base_uri": "https://localhost:8080/"
        },
        "id": "56kOuTNH79IR",
        "outputId": "c66eb964-3aca-4976-f4dc-7bbea547eab4"
      },
      "execution_count": 29,
      "outputs": [
        {
          "output_type": "stream",
          "name": "stdout",
          "text": [
            "The updated list is  ['a', 'b', ['c', ['d', 'e', ['f', 'g', 'h', 'i', 'j'], 'k'], 'l'], 'm', 'n']\n"
          ]
        }
      ]
    },
    {
      "cell_type": "markdown",
      "source": [
        "Q12: Write a python program for Given a Python list, to find value 20 in the list, and if it is \n",
        "present, replace it with 200. Only update the first occurrence of a value\n",
        "list1 = [5, 10, 15, 20, 25, 50, 20]\n",
        "Expected output:\n",
        "list1 = [5, 10, 15, 200, 25, 50, 20]"
      ],
      "metadata": {
        "id": "mIpPhb1279cF"
      }
    },
    {
      "cell_type": "code",
      "source": [
        "list1=[5,10,15,20,25,50,20]\n",
        "a=list1.index(20)\n",
        "list1=list1[:a]+[200]+list1[a+1:]\n",
        "print(\"The updated list is\",list1)"
      ],
      "metadata": {
        "colab": {
          "base_uri": "https://localhost:8080/"
        },
        "id": "H7EzEqOA79um",
        "outputId": "e4e47392-8d82-4444-cb01-f50bef9e9763"
      },
      "execution_count": 30,
      "outputs": [
        {
          "output_type": "stream",
          "name": "stdout",
          "text": [
            "The updated list is [5, 10, 15, 200, 25, 50, 20]\n"
          ]
        }
      ]
    }
  ]
}