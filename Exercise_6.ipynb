{
  "nbformat": 4,
  "nbformat_minor": 0,
  "metadata": {
    "colab": {
      "provenance": []
    },
    "kernelspec": {
      "name": "python3",
      "display_name": "Python 3"
    },
    "language_info": {
      "name": "python"
    }
  },
  "cells": [
    {
      "cell_type": "markdown",
      "source": [
        "1.  Write a Python program to read first n lines of a file."
      ],
      "metadata": {
        "id": "9Z2AHmJ4hy9V"
      }
    },
    {
      "cell_type": "code",
      "execution_count": null,
      "metadata": {
        "id": "NrzKK_iZhbjG"
      },
      "outputs": [],
      "source": [
        "a=input(\"Enter the directory:\")\n",
        "n=int(input(\"Enter the number of lines:\"))\n",
        "b=open(a,mode=\"r\")\n",
        "c=b.readlines()\n",
        "for i in range(0,n):\n",
        "    print(c[i],end=\" \")\n",
        "b.close()"
      ]
    },
    {
      "cell_type": "markdown",
      "source": [
        "2. Write a Python program to append text to a file and display the text."
      ],
      "metadata": {
        "id": "_RJ2vclWh0mS"
      }
    },
    {
      "cell_type": "code",
      "source": [
        "a=input(\"Enter the directory:\")\n",
        "b=open(a,mode=\"a+\")\n",
        "b.write(\"\\nWelcome to CDAC NOIDA\")\n",
        "b.seek(0)\n",
        "print(b.read())\n",
        "b.close()"
      ],
      "metadata": {
        "id": "lXzzwXzah04R"
      },
      "execution_count": null,
      "outputs": []
    },
    {
      "cell_type": "markdown",
      "source": [
        "3. Write a Python program to read a file line by line and store it into a list."
      ],
      "metadata": {
        "id": "UMFL5F38h1Iw"
      }
    },
    {
      "cell_type": "code",
      "source": [
        "a=input(\"Enter the directory:\")\n",
        "b=open(a,mode=\"r\")\n",
        "c=b.readlines()\n",
        "print(c)\n",
        "b.close()"
      ],
      "metadata": {
        "id": "p4GnqNgMh1XX"
      },
      "execution_count": null,
      "outputs": []
    },
    {
      "cell_type": "markdown",
      "source": [
        "4.  Write a program to print each line of a file in reverse order."
      ],
      "metadata": {
        "id": "sUhZzgvch1o3"
      }
    },
    {
      "cell_type": "code",
      "source": [
        "a=input(\"Enter the directory:\")\n",
        "b=open(a,mode=\"r\")\n",
        "c=b.readlines()\n",
        "for i in range (0,len(c)):\n",
        "    d=c[i][::-1]\n",
        "    print(d)\n",
        "b.close()"
      ],
      "metadata": {
        "id": "Ce6Kys6jh14G"
      },
      "execution_count": null,
      "outputs": []
    },
    {
      "cell_type": "markdown",
      "source": [
        "5. Write a Python program to write a list content to a file."
      ],
      "metadata": {
        "id": "FA_gIMunh2Hb"
      }
    },
    {
      "cell_type": "code",
      "source": [
        "a=input(\"Enter the directory:\")\n",
        "L=[\"sunday\",\"monday\",\"tuesday\"]\n",
        "b=open(a,mode=\"w\")\n",
        "for i in L:\n",
        "    b.write(i+\"\\n\")\n",
        "b.close()\n"
      ],
      "metadata": {
        "id": "ZIvRFKKAh2Wc"
      },
      "execution_count": null,
      "outputs": []
    },
    {
      "cell_type": "markdown",
      "source": [
        "6. Write a program to compute the number of characters, words and lines in a file."
      ],
      "metadata": {
        "id": "nVtZ7eIRh2mb"
      }
    },
    {
      "cell_type": "code",
      "source": [
        "a=input(\"Enter the directory:\")\n",
        "b=open(a,mode=\"r\")\n",
        "numwords = 0\n",
        "numchars = 0\n",
        "numlines = 0\n",
        "\n",
        "   \n",
        "for line in b:\n",
        "    wordlist = line.split()\n",
        "    numlines += 1\n",
        "    numwords += len(wordlist)\n",
        "    numchars += len(line)\n",
        "print(\"Lines:\", numlines)\n",
        "print(\"Words:\", numwords)\n",
        "print(\"Characters:\", numchars)\n",
        "b.close()"
      ],
      "metadata": {
        "id": "g3JEqEc1h217"
      },
      "execution_count": null,
      "outputs": []
    },
    {
      "cell_type": "markdown",
      "source": [
        "7: Subtract a week ( 7 days)  from a given date in Python"
      ],
      "metadata": {
        "id": "fGg-NVz2h3GM"
      }
    },
    {
      "cell_type": "code",
      "source": [
        "from datetime import datetime,timedelta\n",
        "given_date = datetime(2020,3,22)\n",
        "print(\"The given date is :\",given_date)\n",
        "days = timedelta(7)\n",
        "new_date = given_date - days\n",
        "print(\"The updated new date is :\", new_date)"
      ],
      "metadata": {
        "colab": {
          "base_uri": "https://localhost:8080/"
        },
        "id": "3x7yZyT5h3Ux",
        "outputId": "c4c30f22-5f11-4bb3-8731-00b0adbf1c2b"
      },
      "execution_count": 1,
      "outputs": [
        {
          "output_type": "stream",
          "name": "stdout",
          "text": [
            "The given date is : 2020-03-22 00:00:00\n",
            "The updated new date is : 2020-03-15 00:00:00\n"
          ]
        }
      ]
    },
    {
      "cell_type": "markdown",
      "source": [
        "8: Add week ( 7 days) and 12 hours to a given date\n",
        "Given:\n",
        " 2020-03-22 10:00:00\n",
        "given_date = datetime(2020, 3, 22, 10, 0, 0)\n",
        "Expected output:\n",
        "2020-03-29 22:00:00\n"
      ],
      "metadata": {
        "id": "eWoFC-Buh3j8"
      }
    },
    {
      "cell_type": "code",
      "source": [
        "from datetime import datetime,timedelta\n",
        "given_date = datetime(2020,3,22,10,0,0)\n",
        "print(\"The given date is: \",given_date)\n",
        "days = timedelta(7,hours=12)\n",
        "new_date = given_date + days\n",
        "print(\"The new updated date is :\",new_date)"
      ],
      "metadata": {
        "colab": {
          "base_uri": "https://localhost:8080/"
        },
        "id": "c5U3OxNsh3zA",
        "outputId": "3fff4a2d-9b9f-4dc4-d525-647ef19cf24e"
      },
      "execution_count": 2,
      "outputs": [
        {
          "output_type": "stream",
          "name": "stdout",
          "text": [
            "The given date is:  2020-03-22 10:00:00\n",
            "The new updated date is : 2020-03-29 22:00:00\n"
          ]
        }
      ]
    },
    {
      "cell_type": "markdown",
      "source": [
        "9: Print ten dates, each two a week apart, in the form YYYY-MM-DD."
      ],
      "metadata": {
        "id": "GvWlynWNh4C2"
      }
    },
    {
      "cell_type": "code",
      "source": [
        "from datetime import datetime,timedelta\n",
        "a=datetime(2020,3,22)\n",
        "print(\"The current date is :\",a)\n",
        "for i in range(9):\n",
        "    a+=timedelta(weeks=1)\n",
        "    print(\"After a week the date is :\",a)"
      ],
      "metadata": {
        "colab": {
          "base_uri": "https://localhost:8080/"
        },
        "id": "jHaN5RxMh4SL",
        "outputId": "6d48715a-07f3-495b-83d1-6d03472918a3"
      },
      "execution_count": 4,
      "outputs": [
        {
          "output_type": "stream",
          "name": "stdout",
          "text": [
            "The current date is : 2020-03-22 00:00:00\n",
            "After a week the date is : 2020-03-29 00:00:00\n",
            "After a week the date is : 2020-04-05 00:00:00\n",
            "After a week the date is : 2020-04-12 00:00:00\n",
            "After a week the date is : 2020-04-19 00:00:00\n",
            "After a week the date is : 2020-04-26 00:00:00\n",
            "After a week the date is : 2020-05-03 00:00:00\n",
            "After a week the date is : 2020-05-10 00:00:00\n",
            "After a week the date is : 2020-05-17 00:00:00\n",
            "After a week the date is : 2020-05-24 00:00:00\n"
          ]
        }
      ]
    },
    {
      "cell_type": "markdown",
      "source": [
        "10: Calculate number of days between two given dates\n",
        "Given:\n",
        " 2020-02-25\n",
        "date_1 = datetime(2020, 2, 25)\n",
        " 2020-09-17\n",
        "date_2 = datetime(2020, 9, 17)\n",
        "Expected output:\n",
        "205 days\n"
      ],
      "metadata": {
        "id": "wAghQl5im3Yy"
      }
    },
    {
      "cell_type": "code",
      "source": [
        "from datetime import datetime,timedelta\n",
        "given_date_1 = datetime(2020,2,25)\n",
        "print(\"The given date1 is :\",given_date_1)\n",
        "given_date_2 = datetime(2020,9,17)\n",
        "print(\"The given date2 is :\",given_date_2)\n",
        "a=given_date_2 - given_date_1\n",
        "print(\"The number of days between two given dates is :\",a)"
      ],
      "metadata": {
        "colab": {
          "base_uri": "https://localhost:8080/"
        },
        "id": "QC5TeZrpm3n_",
        "outputId": "b3f1d504-3a17-4798-df62-83051c478957"
      },
      "execution_count": 5,
      "outputs": [
        {
          "output_type": "stream",
          "name": "stdout",
          "text": [
            "The given date1 is : 2020-02-25 00:00:00\n",
            "The given date2 is : 2020-09-17 00:00:00\n",
            "The number of days between two given dates is : 205 days, 0:00:00\n"
          ]
        }
      ]
    },
    {
      "cell_type": "markdown",
      "source": [
        "11:  Write a Python script to display the \n",
        "a) Current date and time\n",
        "b) Current year in full\n",
        "c) Month of year full name\n",
        "d) Weekday of the week\n",
        "e) Day of year\n",
        "f) Day of the month\n",
        "g) Day of week in full name\n"
      ],
      "metadata": {
        "id": "C4urTdwAm34_"
      }
    },
    {
      "cell_type": "code",
      "source": [
        "from datetime import datetime,timedelta\n",
        "a=datetime.today()\n",
        "b=datetime(2022,1,1)\n",
        "print(\"Current date and time is :\",a)\n",
        "print(\"Current year in full is :\",(a.year))\n",
        "print(\"Month of year full name is :\",a.strftime(\"%B\"))\n",
        "print(\"Weekday of the week is :\",a.strftime(\"%w\"))\n",
        "print(\"The day of year is :\",a-b)\n",
        "print(\"The day of month is :\",a.strftime(\"%d\"))\n",
        "print(\"The day of week in full name is :\",a.strftime(\"%A\"))"
      ],
      "metadata": {
        "colab": {
          "base_uri": "https://localhost:8080/"
        },
        "id": "qOs5wfS9m4O3",
        "outputId": "8ca0c91f-3016-4705-a899-76be91b7fbdd"
      },
      "execution_count": 6,
      "outputs": [
        {
          "output_type": "stream",
          "name": "stdout",
          "text": [
            "Current date and time is : 2023-03-27 10:29:15.471190\n",
            "Current year in full is : 2023\n",
            "Month of year full name is : March\n",
            "Weekday of the week is : 1\n",
            "The day of year is : 450 days, 10:29:15.471190\n",
            "The day of month is : 27\n",
            "The day of week in full name is : Monday\n"
          ]
        }
      ]
    },
    {
      "cell_type": "markdown",
      "source": [
        "12: Python program to convert a string to datetime:\n",
        "          'Jul 1 2016  2:43AM' into 2016-07-01 02:43:00\n"
      ],
      "metadata": {
        "id": "McpHF3lindGp"
      }
    },
    {
      "cell_type": "code",
      "source": [
        "from datetime import datetime\n",
        "a='Jul 1 2016  2:43AM'\n",
        "print(\"The given date time is :\",a)\n",
        "print(\"The updated date time is :\",datetime.strptime('Jul 1 2016  2:43AM',\"%b %d %Y %I:%M%p\"))"
      ],
      "metadata": {
        "colab": {
          "base_uri": "https://localhost:8080/"
        },
        "id": "Qq3pXPb9ndZS",
        "outputId": "c2350dc2-99ce-4bf2-e16f-c1d09d229202"
      },
      "execution_count": 7,
      "outputs": [
        {
          "output_type": "stream",
          "name": "stdout",
          "text": [
            "The given date time is : Jul 1 2016  2:43AM\n",
            "The updated date time is : 2016-07-01 02:43:00\n"
          ]
        }
      ]
    },
    {
      "cell_type": "markdown",
      "source": [
        "13: Python program to convert Year/Month/Day to Day of Year."
      ],
      "metadata": {
        "id": "MJwW8hqym4fr"
      }
    },
    {
      "cell_type": "code",
      "source": [
        "from datetime import datetime,timedelta\n",
        "a=datetime.today()\n",
        "b=(a-datetime(a.year,1,1))\n",
        "print(\"The day of year is :\",b)"
      ],
      "metadata": {
        "colab": {
          "base_uri": "https://localhost:8080/"
        },
        "id": "C2z3-8qnm4vY",
        "outputId": "a85e6e0a-5875-422f-c9fe-f3f9a5ee9f07"
      },
      "execution_count": 8,
      "outputs": [
        {
          "output_type": "stream",
          "name": "stdout",
          "text": [
            "The day of year is : 85 days, 10:31:38.091509\n"
          ]
        }
      ]
    }
  ]
}