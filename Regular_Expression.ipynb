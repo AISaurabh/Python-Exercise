{
  "nbformat": 4,
  "nbformat_minor": 0,
  "metadata": {
    "colab": {
      "provenance": []
    },
    "kernelspec": {
      "name": "python3",
      "display_name": "Python 3"
    },
    "language_info": {
      "name": "python"
    }
  },
  "cells": [
    {
      "cell_type": "markdown",
      "source": [
        "Q1: Write a Python program that matches a string that has an a followed by zero or more b's."
      ],
      "metadata": {
        "id": "anpKa2R-fwM6"
      }
    },
    {
      "cell_type": "code",
      "execution_count": 1,
      "metadata": {
        "colab": {
          "base_uri": "https://localhost:8080/"
        },
        "id": "poea55t-fU5n",
        "outputId": "63ff8d8b-1485-48bf-970f-2368e533cd2b"
      },
      "outputs": [
        {
          "output_type": "stream",
          "name": "stdout",
          "text": [
            "Enter a string:abaabbbaabababbaaabbb\n",
            "['ab', 'a', 'abbb', 'a', 'ab', 'ab', 'abb', 'a', 'a', 'abbb']\n"
          ]
        }
      ],
      "source": [
        "import re\n",
        "x=input(\"Enter a string:\")\n",
        "p=re.compile(\"ab*\",re.I)\n",
        "print(p.findall(x))"
      ]
    },
    {
      "cell_type": "markdown",
      "source": [
        "Q2: Write a Python program to check for a number at the end of a string."
      ],
      "metadata": {
        "id": "mBZ8xjgKfy-I"
      }
    },
    {
      "cell_type": "code",
      "source": [
        "import re\n",
        "a=input(\"Enter the string :\")\n",
        "b=re.compile(\"[0-9]$\")\n",
        "c=re.search(b,a)\n",
        "if c:\n",
        "    print(\"The number is present at the end of string\")\n",
        "else:\n",
        "    print(\"The number is not present at the end of string\")"
      ],
      "metadata": {
        "colab": {
          "base_uri": "https://localhost:8080/"
        },
        "id": "9ASNf7gqfzQK",
        "outputId": "d58bb508-1e82-4561-c7d5-5c8aea8a8241"
      },
      "execution_count": 3,
      "outputs": [
        {
          "output_type": "stream",
          "name": "stdout",
          "text": [
            "Enter the string :abcde123\n",
            "The number is present at the end of string\n"
          ]
        }
      ]
    },
    {
      "cell_type": "markdown",
      "source": [
        "\n",
        "\n",
        "Q3 : Write a Python program to search some literals strings in a string. \n",
        "\n"
      ],
      "metadata": {
        "id": "mE66YqUyfzf6"
      }
    },
    {
      "cell_type": "code",
      "source": [
        "import re\n",
        "a=input(\"Enter the string you want to search :\")\n",
        "b=input(\"Enter the sentence :\")\n",
        "if re.search(a,b):\n",
        "      print(a,\"found in a sentence\")\n",
        "else:\n",
        "    print(a,\"not found in a sentence\")"
      ],
      "metadata": {
        "colab": {
          "base_uri": "https://localhost:8080/"
        },
        "id": "NLggXY6vfzw3",
        "outputId": "03f3b71c-894f-436d-c605-cb3bf59ea0e5"
      },
      "execution_count": 5,
      "outputs": [
        {
          "output_type": "stream",
          "name": "stdout",
          "text": [
            "Enter the string you want to search : titan\n",
            "Enter the sentence :hello my name is titan\n",
            " titan found in a sentence\n"
          ]
        }
      ]
    },
    {
      "cell_type": "markdown",
      "source": [
        "\n",
        "Q4: Replace all occurrences of 5 with five for the given string i.e. 'They ate 5 apples and 5 oranges' \n",
        "\n"
      ],
      "metadata": {
        "id": "nRKuxb4Lfz_u"
      }
    },
    {
      "cell_type": "code",
      "source": [
        "import re\n",
        "a='They ate 5 apples and 5 oranges'\n",
        "print(a)\n",
        "print(\"The updated sentence is :\")\n",
        "print(re.sub('5','five','They ate 5 apples and 5 oranges')) "
      ],
      "metadata": {
        "colab": {
          "base_uri": "https://localhost:8080/"
        },
        "id": "e9erP5Jff0Ou",
        "outputId": "4fc84cf0-bf59-4951-b2a0-9ca5192b81b3"
      },
      "execution_count": 6,
      "outputs": [
        {
          "output_type": "stream",
          "name": "stdout",
          "text": [
            "They ate 5 apples and 5 oranges\n",
            "The updated sentence is :\n",
            "They ate five apples and five oranges\n"
          ]
        }
      ]
    },
    {
      "cell_type": "markdown",
      "source": [
        "Q5: Replace all occurrences of note irrespective of case with X in given string i.e. 'This note should not be NoTeD'."
      ],
      "metadata": {
        "id": "9CHObtkff0eA"
      }
    },
    {
      "cell_type": "code",
      "source": [
        "import re\n",
        "a='This note should not be NoTeD.'\n",
        "print(a)\n",
        "print(\"The updated sentence is :\")\n",
        "print(re.sub('note','x','This note should not be NoTeD.',flags=re.IGNORECASE))"
      ],
      "metadata": {
        "colab": {
          "base_uri": "https://localhost:8080/"
        },
        "id": "5qvXp-CRf0tX",
        "outputId": "c24e2ac6-111c-43b0-b9df-9d632d457080"
      },
      "execution_count": 7,
      "outputs": [
        {
          "output_type": "stream",
          "name": "stdout",
          "text": [
            "This note should not be NoTeD.\n",
            "The updated sentence is :\n",
            "This x should not be xD.\n"
          ]
        }
      ]
    },
    {
      "cell_type": "markdown",
      "source": [
        "Q 6: Write a Python program to remove leading zeros from an IP address.\n",
        "For example:\n",
        "IP Address 216.08.094.196 should be represented as 216.8.94.196\n"
      ],
      "metadata": {
        "id": "9v0tJ1oPf08O"
      }
    },
    {
      "cell_type": "code",
      "source": [
        "import re\n",
        "a='216.08.094.196'\n",
        "print(a)\n",
        "print(\"The updated IP Address is\")\n",
        "print(re.sub('0','',a))"
      ],
      "metadata": {
        "colab": {
          "base_uri": "https://localhost:8080/"
        },
        "id": "zpqI4ihqf1Mv",
        "outputId": "e9668fac-243e-442f-b9fc-8bd7b3689d5d"
      },
      "execution_count": 10,
      "outputs": [
        {
          "output_type": "stream",
          "name": "stdout",
          "text": [
            "216.08.094.196\n",
            "The updated IP Address is\n",
            "216.8.94.196\n"
          ]
        }
      ]
    }
  ]
}